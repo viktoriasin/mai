{
 "cells": [
  {
   "cell_type": "markdown",
   "metadata": {},
   "source": [
    "<center>\n",
    "<h1>Факультет \"Прикладная математика\" МАИ</h1>\n",
    "<h2>Курс \"Основы Python для анализа данных\"</h2>\n",
    "<h2>Артамонов Игорь Михайлович</h2>\n",
    "</center>"
   ]
  },
  {
   "cell_type": "markdown",
   "metadata": {},
   "source": [
    "<center><h2>Занятие № 12. Линейная регрессия. Логистическая регрессия. Многослойный перцептрон.</h2></center>"
   ]
  },
  {
   "cell_type": "markdown",
   "metadata": {},
   "source": [
    "## Общение / вопросы по курсу\n",
    "\n",
    "Платформа для групповой работы Atlassian Confluence факультета \"Прикладная математика\"\n",
    "\n",
    "https://mai.moscow/display/PYTML"
   ]
  },
  {
   "cell_type": "markdown",
   "metadata": {},
   "source": [
    "* <b>Занятие № 12. Линейная регрессия. Логистическая регрессия. Многослойный перцептрон.</b>"
   ]
  },
  {
   "cell_type": "markdown",
   "metadata": {},
   "source": [
    "## virtualenv + Jupyter notebook"
   ]
  },
  {
   "cell_type": "markdown",
   "metadata": {},
   "source": [
    "```\n",
    "<Ctrl> + <Alt> + T - новое окно терминала\n",
    "```"
   ]
  },
  {
   "cell_type": "markdown",
   "metadata": {},
   "source": [
    "```\n",
    "$ conda -V\n",
    "\n",
    "$ conda update conda\n",
    "\n",
    "$ conda search \"^python$\"\n",
    "\n",
    "$ conda create -n yourenvname python=x.x anaconda\n",
    "\n",
    "$ source activate yourenvname\n",
    "\n",
    "$ jupyter notebook\n",
    "\n",
    "$ conda install -n yourenvname [package]\n",
    "```"
   ]
  },
  {
   "cell_type": "markdown",
   "metadata": {},
   "source": [
    "##   Линейная регрессия. Логистическая регрессия. Многослойный перцептрон.</h2></center>"
   ]
  },
  {
   "cell_type": "markdown",
   "metadata": {},
   "source": [
    "#### Задачи машинного обучения\n",
    "* регрессия\n",
    "* классификация\n",
    "\n",
    "#### Обычный порядок действий\n",
    "* получить \"сырые\" данные\n",
    "* понять, что они из себя представляют (см. EDA)\n",
    "* привести их в вид, пригодный для обучения модели\n",
    "* разбить тренировочную выборку на две: обучающую и проверочную (валидационную)\n",
    "* сравнить несколько алгоритмов машинного обучения, их настроек, чтобы получить наилучший результат для P на валидационной выборке\n",
    "* (_возможно_) повторить предыдущие три этапа несколько раз\n",
    "* обучить \"лучшую\" модель на всей тренировочной выборке\n",
    "* использовать модель для получения каких-то результатов\n",
    "* (_возможно_) провести дообучение модели с полученными свежими данными"
   ]
  },
  {
   "cell_type": "code",
   "execution_count": null,
   "metadata": {},
   "outputs": [],
   "source": [
    "import numpy as np\n",
    "import pandas as pd\n",
    "import matplotlib.pyplot as plt\n",
    "import scipy as sc\n",
    "from numpy.random import randn\n",
    "import seaborn as sns\n",
    "from scipy import stats\n",
    "\n",
    "import matplotlib as mpl\n",
    "from matplotlib.patches import Ellipse\n",
    "%matplotlib inline\n",
    "%config InlineBackend.figure_format = 'svg'"
   ]
  },
  {
   "cell_type": "code",
   "execution_count": null,
   "metadata": {},
   "outputs": [],
   "source": [
    "from sklearn.model_selection import KFold, train_test_split, GridSearchCV, cross_val_score\n",
    "\n",
    "from sklearn.metrics import accuracy_score \n",
    "\n",
    "from sklearn.tree import DecisionTreeClassifier\n",
    "from sklearn.neighbors import KNeighborsClassifier\n",
    "from sklearn.ensemble import RandomForestClassifier, GradientBoostingClassifier"
   ]
  },
  {
   "cell_type": "code",
   "execution_count": null,
   "metadata": {},
   "outputs": [],
   "source": [
    "import os\n",
    "import os.path"
   ]
  },
  {
   "cell_type": "markdown",
   "metadata": {},
   "source": [
    "## Линейная регрессия"
   ]
  },
  {
   "cell_type": "markdown",
   "metadata": {},
   "source": [
    "Регрессионная модель\n",
    "$$\n",
    "y = f(x, w) + \\epsilon, E(\\epsilon) = 0\n",
    "$$<br>\n",
    "где $f(x, w)$ - функция регрессии, $w$ - параметры модели, $\\epsilon$ - случайная ошибка модели, называется линейной регрессией в том случае, если  \n",
    "функция регрессии имеет следующий вид:\n",
    "$$\n",
    "y = w_0 + \\sum_{i=1}^{m} {w_i x_i}\n",
    "$$<br>\n",
    "где $w_i$ - коэффициенты (веса) регрессии, $x_i$ - факторы модели, $m$ - количество факторов модели.\n",
    "\n",
    "Параметры линейной регрессии показывают скорость изменения зависимой перменной по данному фактору при фиксированных остальных факторах:\n",
    "$$\n",
    "\\forall i,  w_i = \\frac{\\partial f}{\\partial x_i} = const\n",
    "$$<br>\n",
    "\n",
    "Для упрощения добавим фиктивную размерность $x_0 = 1$ для каждого наблюдения, то тогда можно внести свободный член $w_0$ под сумму:\n",
    "$$\n",
    "y = \\sum_{i=0}^{m} {w_i x_i}\n",
    "$$<br>\n",
    "Или в векторном виде:\n",
    "$$\n",
    "\\overrightarrow{y} = X \\overrightarrow{w} + \\epsilon \n",
    "$$<br>\n"
   ]
  },
  {
   "cell_type": "markdown",
   "metadata": {},
   "source": [
    " Функция потерь используется для определения расхождения между предсказанным значением $\\hat{y}$ и реальными данными $y$. Это должно быть положительное значение, уменьшающееся в случае улучшения качества модели и увеличивающееся - в противном случае.\n",
    "$$\n",
    "\\theta^* = arg min ()\n",
    "$$\n",
    "\n",
    "Среднеквадратичная ошибка (MSE - Mean Squared Error)\n",
    "$$\n",
    "\\mathcal{L} = \\frac{1}{n} \\sum_{i=1}^n{ (y^{(i)}-\\hat{y}^{(i)})^2}\n",
    "$$\n",
    "Она может быть минимизированя с использованием метода наименьших квадратов (МНК), который минимизирует среднеквадратичную ошибку между реальным значением и прогнозом, выданным моделью:\n",
    "$$\n",
    "\\mathcal{L}(X, \\overrightarrow{y},  \\overrightarrow{w}) = \n",
    "    \\frac{1}{2n} \\sum_{i=1}^n{ (y_i - \\overrightarrow{w}^\\intercal \\overrightarrow{x}_i)^2}\n",
    "$$\n",
    "<br><br>\n",
    "Теорема Маркова-Гаусса утверждает, что оценка МНК является лучшей (то есть обладающей наименьшей дисперсией) оценкой параметров модели, среди всех линейных и несмещенных оценок."
   ]
  },
  {
   "cell_type": "markdown",
   "metadata": {},
   "source": [
    "## Градиентный спуск"
   ]
  },
  {
   "cell_type": "markdown",
   "metadata": {},
   "source": [
    "<img src=\"images12/fff.png\" >"
   ]
  },
  {
   "cell_type": "markdown",
   "metadata": {},
   "source": [
    "$$\n",
    "\\theta_j = \\theta_j - \\alpha \\frac{1}{n} \\sum_{i=0}^{n} ({h_\\theta (x^{(i)}) - y^{(i)}})x_j^{(i)}\n",
    "$$<br>"
   ]
  },
  {
   "cell_type": "code",
   "execution_count": null,
   "metadata": {},
   "outputs": [],
   "source": [
    "from sklearn.datasets import load_boston\n",
    "\n",
    "boston_dataset = load_boston()"
   ]
  },
  {
   "cell_type": "markdown",
   "metadata": {},
   "source": [
    "<b>CRIM</b>: Per capita crime rate by town<br>\n",
    "<b>ZN</b>: Proportion of residential land zoned for lots over 25,000 sq. ft<br>\n",
    "<b>INDUS</b>: Proportion of non-retail business acres per town<br>\n",
    "<b>CHAS</b>: Charles River dummy variable (= 1 if tract bounds river; 0 otherwise)<br>\n",
    "<b>NOX</b>: Nitric oxide concentration (parts per 10 million)<br>\n",
    "<b>RM</b>: Average number of rooms per dwelling<br>\n",
    "<b>AGE</b>: Proportion of owner-occupied units built prior to 1940<br>\n",
    "<b>DIS</b>: Weighted distances to five Boston employment centers<br>\n",
    "<b>RAD</b>: Index of accessibility to radial highways<br>\n",
    "<b>TAX</b>: Full-value property tax rate per \\$10,000<br>\n",
    "<b>PTRATIO</b>: Pupil-teacher ratio by town<br>\n",
    "<b>B</b>: 1000(Bk — 0.63)², where Bk is the proportion of [people of African American descent] by town<br>\n",
    "<b>LSTAT</b>: Percentage of lower status of the population<br>\n",
    "<b>MEDV</b>: Median value of owner-occupied homes in $1000s<br>"
   ]
  },
  {
   "cell_type": "markdown",
   "metadata": {},
   "source": [
    "Целевая переменная - <b>MEDV</b>"
   ]
  },
  {
   "cell_type": "code",
   "execution_count": null,
   "metadata": {},
   "outputs": [],
   "source": [
    "boston = pd.DataFrame(boston_dataset.data, columns=boston_dataset.feature_names)\n",
    "X = boston.copy()\n",
    "\n",
    "boston['MEDV'] = boston_dataset.target\n",
    "y = boston['MEDV'].copy()"
   ]
  },
  {
   "cell_type": "code",
   "execution_count": null,
   "metadata": {},
   "outputs": [],
   "source": [
    "boston.columns"
   ]
  },
  {
   "cell_type": "code",
   "execution_count": null,
   "metadata": {},
   "outputs": [],
   "source": [
    "# Проверяем, что данные не содержат пустых строк \n",
    "boston.isnull().sum()"
   ]
  },
  {
   "cell_type": "code",
   "execution_count": null,
   "metadata": {},
   "outputs": [],
   "source": [
    "sns.set(rc={'figure.figsize':(10,7)})\n",
    "sns.distplot(y, bins=30)\n",
    "plt.show()"
   ]
  },
  {
   "cell_type": "code",
   "execution_count": null,
   "metadata": {},
   "outputs": [],
   "source": [
    "corrmat = boston.corr()\n",
    "sns.heatmap(corrmat[(corrmat >= 0.5) | (corrmat < -0.5)], \n",
    "            cmap='viridis',\n",
    "            vmax=1.0, vmin=-1.0,\n",
    "            linewidth=0.1,\n",
    "            annot=True,\n",
    "            annot_kws={\"size\":8});"
   ]
  },
  {
   "cell_type": "code",
   "execution_count": null,
   "metadata": {},
   "outputs": [],
   "source": [
    "features = ['LSTAT', 'RM']"
   ]
  },
  {
   "cell_type": "code",
   "execution_count": null,
   "metadata": {},
   "outputs": [],
   "source": [
    "sns.pairplot(boston[['LSTAT', 'RM', 'MEDV']], diag_kind='kde', plot_kws={'alpha': 0.2});"
   ]
  },
  {
   "cell_type": "code",
   "execution_count": null,
   "metadata": {},
   "outputs": [],
   "source": [
    "num_epoch = 10000\n",
    "num_data = X.shape[0]\n",
    "learning_rate = 0.01\n",
    "\n",
    "w = np.random.uniform(low=-1.0, high=1.0, size=13)\n",
    "b = np.random.uniform(low=-1.0, high=1.0)\n",
    "\n",
    "for epoch in range(num_epoch):\n",
    "    predict = X.dot(w) + b\n",
    "    error = np.abs(predict - y).mean()\n",
    "\n",
    "    # Assume that error < 5 will be enough\n",
    "    if error < 5:\n",
    "        break\n",
    "\n",
    "    if epoch % 1000 == 0:    \n",
    "        print(\"{0} epoch, error={1}\".format(epoch, error))\n",
    "\n",
    "    w = w - learning_rate * (predict-y).dot(X) / num_data\n",
    "    b = b - learning_rate * (predict-y).mean()\n",
    "    \n",
    "print(\"{0} epoch, error={1}\".format(epoch, error))\n"
   ]
  },
  {
   "cell_type": "markdown",
   "metadata": {},
   "source": [
    "### Стохастический градиентный спуск"
   ]
  },
  {
   "cell_type": "markdown",
   "metadata": {},
   "source": [
    "<img src=\"images12/grad1.png\" >"
   ]
  },
  {
   "cell_type": "code",
   "execution_count": null,
   "metadata": {},
   "outputs": [],
   "source": [
    "# Пользуясь предыдущим кодом, реализуйте случайный градиентный спуск\n",
    "def stoch_grad_descent(X, y, theta, alpha, niters, batch_size, cost_func):\n",
    "    \n",
    "    pass"
   ]
  },
  {
   "cell_type": "code",
   "execution_count": null,
   "metadata": {},
   "outputs": [],
   "source": [
    "# Сравните Ваш SGD с реализацией  sklearn\n"
   ]
  },
  {
   "cell_type": "markdown",
   "metadata": {},
   "source": [
    "### Линейная регрессия - sklearn"
   ]
  },
  {
   "cell_type": "code",
   "execution_count": null,
   "metadata": {},
   "outputs": [],
   "source": [
    "from sklearn.linear_model import LinearRegression\n",
    "\n",
    "lr = LinearRegression()\n",
    "lr.fit(X,y)\n",
    "pred = lr.predict(X)"
   ]
  },
  {
   "cell_type": "code",
   "execution_count": null,
   "metadata": {},
   "outputs": [],
   "source": [
    "lr.score(X, y)"
   ]
  },
  {
   "cell_type": "code",
   "execution_count": null,
   "metadata": {},
   "outputs": [],
   "source": [
    "lr.coef_"
   ]
  },
  {
   "cell_type": "code",
   "execution_count": null,
   "metadata": {},
   "outputs": [],
   "source": [
    "lr.intercept_ "
   ]
  },
  {
   "cell_type": "code",
   "execution_count": null,
   "metadata": {},
   "outputs": [],
   "source": [
    "type(pred)"
   ]
  },
  {
   "cell_type": "code",
   "execution_count": null,
   "metadata": {},
   "outputs": [],
   "source": [
    "# Выведите графики: реальный и предсказанный для двух переменных с наибольшей корреляцией с целевым значением\n"
   ]
  },
  {
   "cell_type": "markdown",
   "metadata": {},
   "source": [
    "## Логистическая регрессия"
   ]
  },
  {
   "cell_type": "markdown",
   "metadata": {},
   "source": [
    "В отличие от __линейной__ регрессии, __логистическая__ регрессия используется для __классификации__"
   ]
  },
  {
   "cell_type": "markdown",
   "metadata": {},
   "source": [
    "В основе логистической регрессии лежит переход от линейного прогноза к вероятности. Иначе говоря, нам нужна функция\n",
    "$$\n",
    "f:R\\rightarrow[0,1]\n",
    "$$<br>\n",
    "$$\n",
    "p = \\sigma( \\overrightarrow{w}^\\intercal \\overrightarrow{x} )\n",
    "$$\n"
   ]
  },
  {
   "cell_type": "markdown",
   "metadata": {},
   "source": [
    "В случае классификации \"идеальная\" функция нейрона должна выглядеть так:"
   ]
  },
  {
   "cell_type": "markdown",
   "metadata": {},
   "source": [
    "<img src=\"images12/1200px-Heaviside.svg.png\">"
   ]
  },
  {
   "cell_type": "markdown",
   "metadata": {},
   "source": [
    "### <font color=\"green\">ВОПРОС</font>\n",
    "В чем может быть проблема такой функции, если она окажется в узле?"
   ]
  },
  {
   "cell_type": "markdown",
   "metadata": {},
   "source": [
    "$\\sigma$-функция:\n",
    "$$\n",
    "\\sigma(x) = \\frac {1} {1+e^{-x}}\n",
    "$$\n",
    "Производная $\\sigma$ функции: \n",
    "$$\n",
    "\\sigma'(x) = \\sigma(x) \\cdot (1-\\sigma(x))\n",
    "$$"
   ]
  },
  {
   "cell_type": "markdown",
   "metadata": {},
   "source": [
    "Логистическая функция потерь"
   ]
  },
  {
   "cell_type": "markdown",
   "metadata": {},
   "source": [
    "\n",
    "$$\n",
    "\\mathcal{L}_{log}(X, \\overrightarrow{y}, \\overrightarrow{w}) = \\sum_{i=1}^n \n",
    "    {( 1 + e^{-y_i \\overrightarrow{w}^\\intercal \\overrightarrow{x_i}}  )}\n",
    "$$\n"
   ]
  },
  {
   "cell_type": "markdown",
   "metadata": {},
   "source": [
    "Кросс-энтропия\n",
    "\n",
    "$$\n",
    "\\mathcal{L} = - \\frac{1}{n} \\sum_{i=1}^n{[\n",
    "    (y^{(i)}log \\hat{y}^{(i)})-(1-y^{(i)})log(1- \\hat{y}^{(i)})]}\n",
    "$$\n"
   ]
  },
  {
   "cell_type": "markdown",
   "metadata": {},
   "source": [
    "## Регуляризация параметров"
   ]
  },
  {
   "cell_type": "markdown",
   "metadata": {},
   "source": [
    "Ситуации, когда матрица $X^\\intercal X$ «близка» к вырожденной, встречается достаточно часто. В этом случае говорят о наличии _мультиколлинеарности_, то есть наличии линейной зависимости между объясняющими переменными (факторами) регрессионной модели. <br><br> При этом выделяют два варианта:\n",
    "* _полная коллинеарность_,  которая означает наличие функциональной линейной зависимости.<br>\n",
    "В этм случае возникает неопределенность параметров в линейной регрессионной модели.\n",
    "* частичная (или просто _мультиколлинеарность_)  наличие сильной корреляции между факторами. \n",
    "В таких ситуациях МНК-оценка формально существуют, но обладают «плохими» статистическими свойствами. Небольшое изменение исходных статистических данных (добавление или изъятие небольшой порции наблюдений) приводит к существенному изменению оценок коэффициентов регрессионной модели, вплоть до изменения их знаков.\n"
   ]
  },
  {
   "cell_type": "markdown",
   "metadata": {},
   "source": [
    "### Гребневая регрессия"
   ]
  },
  {
   "cell_type": "markdown",
   "metadata": {},
   "source": [
    "$$\n",
    "\\overrightarrow{w} = (X^\\intercal X + \\lambda E)^{-1} X^\\intercal \\overrightarrow y\n",
    "$$"
   ]
  },
  {
   "cell_type": "markdown",
   "metadata": {},
   "source": [
    "### LASSO-регрессия"
   ]
  },
  {
   "cell_type": "markdown",
   "metadata": {},
   "source": [
    "$$\n",
    "J(X, \\overrightarrow{y}, \\overrightarrow{w} ) = \\mathcal{L}_{log}(X, \\overrightarrow{y}, \\overrightarrow{w}) + \\lambda {| \\overrightarrow{w} |} ^2\n",
    "$$"
   ]
  },
  {
   "cell_type": "markdown",
   "metadata": {},
   "source": [
    "<img src=\"images12/ridge-and-lasso.png\">"
   ]
  },
  {
   "cell_type": "markdown",
   "metadata": {},
   "source": [
    "## <font color=\"red\">ЗАДАНИЕ</font>"
   ]
  },
  {
   "cell_type": "markdown",
   "metadata": {},
   "source": [
    "### <font color=\"blue\">ВАЖНО!</font> Это задание необходимо сделать _всем_ и показать мне на следующем занятии."
   ]
  },
  {
   "cell_type": "code",
   "execution_count": null,
   "metadata": {},
   "outputs": [],
   "source": [
    "# Загрузите данные CIFAR-10\n",
    "# https://www.cs.toronto.edu/~kriz/cifar.html"
   ]
  },
  {
   "cell_type": "code",
   "execution_count": null,
   "metadata": {},
   "outputs": [],
   "source": [
    "def unpickle(file):\n",
    "    import pickle\n",
    "    with open(file, 'rb') as fo:\n",
    "        dict = pickle.load(fo, encoding='bytes')\n",
    "    return dict"
   ]
  },
  {
   "cell_type": "code",
   "execution_count": null,
   "metadata": {},
   "outputs": [],
   "source": [
    "from sklearn.cluster import KMeans, SpectralClustering, DBSCAN, AgglomerativeClustering"
   ]
  },
  {
   "cell_type": "markdown",
   "metadata": {},
   "source": [
    "Кластеризуйте изображения на 10 групп c использованием методов, описанных ранее (естественно, \n",
    "без использования целевой переменной)"
   ]
  },
  {
   "cell_type": "code",
   "execution_count": null,
   "metadata": {},
   "outputs": [],
   "source": [
    "# Ваш код\n"
   ]
  },
  {
   "cell_type": "markdown",
   "metadata": {},
   "source": [
    "Зная значение целевой переменной, сравните качество кластеризации"
   ]
  },
  {
   "cell_type": "code",
   "execution_count": null,
   "metadata": {},
   "outputs": [],
   "source": [
    "# Ваш код\n"
   ]
  },
  {
   "cell_type": "markdown",
   "metadata": {},
   "source": [
    "Предсказажите класс с помощью линейной регрессии<br>\n",
    "Подумайте, как Вы будете разделять разные классы"
   ]
  },
  {
   "cell_type": "code",
   "execution_count": null,
   "metadata": {},
   "outputs": [],
   "source": [
    "# Ваш код\n"
   ]
  },
  {
   "cell_type": "markdown",
   "metadata": {},
   "source": [
    "Попробуйте предсказать класс с помощью:\n",
    "    * логистической регрессии\n",
    "    * гребневой регрессии\n",
    "    * LASSO-регрессии<br><br>\n",
    "Ответьте на вопросы:\n",
    "    * Сколько времени заняло выполнение? \n",
    "    * Какой метод самый быстрый, а какой - самый медленный? Почему?"
   ]
  },
  {
   "cell_type": "code",
   "execution_count": null,
   "metadata": {},
   "outputs": [],
   "source": [
    "# Ваш код\n"
   ]
  },
  {
   "cell_type": "markdown",
   "metadata": {},
   "source": [
    "Посмотрите, какие параметры можно варьировать для:\n",
    "    * логистической регрессии\n",
    "    * гребневой регрессии\n",
    "    * LASSO-регрессии<br>\n",
    "\n",
    "С использованием классов с приставкой __CV__ (linear_model.LassoCV и т.д) найдите лучшие варианты и снова сравните их."
   ]
  },
  {
   "cell_type": "code",
   "execution_count": null,
   "metadata": {},
   "outputs": [],
   "source": [
    "# Ваш код\n"
   ]
  },
  {
   "cell_type": "markdown",
   "metadata": {},
   "source": [
    "## Нейронные сети"
   ]
  },
  {
   "cell_type": "markdown",
   "metadata": {},
   "source": [
    "<img src=\"images12/2.webp\" >"
   ]
  },
  {
   "cell_type": "markdown",
   "metadata": {},
   "source": [
    "<img src=\"images12/1_fnU_3MGmFp0LBIzRPx42-w.png\">"
   ]
  },
  {
   "cell_type": "markdown",
   "metadata": {},
   "source": [
    "https://github.com/Prakashvanapalli/TensorFlow/blob/master/Blogposts/Backpropogation_with_Images.ipynb"
   ]
  },
  {
   "cell_type": "markdown",
   "metadata": {},
   "source": [
    "## Экзаменационные вопросы:"
   ]
  },
  {
   "cell_type": "markdown",
   "metadata": {},
   "source": [
    "* Линейная регрессия\n",
    "* Логистическая регрессия\n",
    "* Регуляризация. Гребневая (ridge) и LASSO-регрессее\n",
    "* Структура нейрона в нейросети\n",
    "* Многослойный перцептрон (MLP) \n",
    "* Прямое распространение в логистической регрессии\n",
    "* Обратное распространение в логистической регрессии"
   ]
  }
 ],
 "metadata": {
  "kernelspec": {
   "display_name": "Python 3",
   "language": "python",
   "name": "python3"
  },
  "language_info": {
   "codemirror_mode": {
    "name": "ipython",
    "version": 3
   },
   "file_extension": ".py",
   "mimetype": "text/x-python",
   "name": "python",
   "nbconvert_exporter": "python",
   "pygments_lexer": "ipython3",
   "version": "3.7.3"
  }
 },
 "nbformat": 4,
 "nbformat_minor": 2
}
