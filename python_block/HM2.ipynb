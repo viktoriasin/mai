{
 "cells": [
  {
   "cell_type": "code",
   "execution_count": 1,
   "metadata": {},
   "outputs": [],
   "source": [
    "import numpy as np\n",
    "import pandas as pd\n",
    "import matplotlib.pyplot as plt\n",
    "import scipy as sc\n",
    "%matplotlib inline"
   ]
  },
  {
   "cell_type": "code",
   "execution_count": 2,
   "metadata": {},
   "outputs": [],
   "source": [
    "class Node:\n",
    "    \n",
    "    def __init__(self, value, rightChild=None, leftChild=None, root=None):\n",
    "        self.value = value\n",
    "        self.rightChild = rightChild\n",
    "        self.leftChild = leftChild\n",
    "        self.root = root\n",
    "        \n",
    "    def isLeftChild(self):\n",
    "        return self.root and self.root.leftChild == self\n",
    "    \n",
    "    def isRightChild(self):\n",
    "        return self.root and self.root.rightChild == self\n",
    "\n",
    "    def isRoot(self):\n",
    "        return not self.root\n",
    "    \n",
    "    def hasRightChild(self):\n",
    "        return self.rightChild\n",
    "    \n",
    "    def hasLeftChild(self):\n",
    "        return self.leftChild\n",
    "    \n",
    "    def isLeaf(self):\n",
    "        return not (self.rightChild or self.leftChild)\n",
    "    \n",
    "    def hasAnyChild(self):\n",
    "        return self.rightChild or self.leftChild\n",
    "    \n",
    "    def hasBothChild(self):\n",
    "        return self.rightChild and self.leftChild\n",
    "    \n",
    "    def replaceNodeData(self,value,l,r):\n",
    "        self.value = value\n",
    "        self.leftChild = l\n",
    "        self.rightChild = r\n",
    "        if self.hasRightChild():\n",
    "            self.leftChild.parent = self\n",
    "        if self.hasLeftChild():\n",
    "            self.rightChild.parent = self\n",
    "            \n",
    "    def findSucc(self):\n",
    "        succ = None\n",
    "        if self.hasRightChild():\n",
    "            succ = self.rightChild.findMin()\n",
    "\n",
    "        return succ\n",
    "    \n",
    "    def findMin(self):\n",
    "        curr = self\n",
    "        while curr.hasLeftChild():\n",
    "            curr = curr.leftChild\n",
    "        return curr\n",
    "    \n",
    "    def removeSucc(self):\n",
    "        if self.isLeaf():\n",
    "            if self.isLeftChild():\n",
    "                self.parent.leftChild = None\n",
    "            if self.isRightChild():\n",
    "                self.parent.rightChild = None\n",
    "        elif self.hasAnyChild():\n",
    "            if self.hasLeftChild():\n",
    "                if self.isLeftChild():\n",
    "                    self.parent.leftChild = self.leftChild\n",
    "                else:\n",
    "                    self.parent.rightChild = self.leftChild\n",
    "                self.leftChild.parent = self.parent\n",
    "            else:\n",
    "                if self.isLeftChild():\n",
    "                    self.parent.leftChild = self.rightChild\n",
    "                else:\n",
    "                    self.parent.rightChild = self.rightChild\n",
    "                self.rightChild.parent = self.parent\n",
    "                \n",
    "    def __iter__(self):\n",
    "        '''\n",
    "        возвращает все строки в виде упорядоченного списка\n",
    "        '''\n",
    "        if self:\n",
    "            if self.hasLeftChild():\n",
    "                for elem in self.leftChild:\n",
    "                    yield elem\n",
    "            yield self.value\n",
    "            if self.hasRightChild():\n",
    "                for elem in self.rightChild:\n",
    "                    yield elem\n",
    "            \n",
    "        \n",
    "                                         \n",
    "\n",
    "class StrBinTree:\n",
    "    '''\n",
    "    Класс бинарного дерева с функциями поиска расстояния до ближайшей сохраненной строки:\n",
    "     '''\n",
    "    def __init__(self):\n",
    "        self.root = None\n",
    "        self.size = 0\n",
    "        \n",
    "    def _insert(self, s, curNode):\n",
    "        if s < curNode.value:\n",
    "            if curNode.hasLeftChild():\n",
    "                self._insert(s, curNode.leftChild)\n",
    "            else:\n",
    "                curNode.leftChild = Node(s, root = curNode)\n",
    "        else:\n",
    "            if curNode.hasRightChild():\n",
    "                self._insert(s, curNode.rightChild)\n",
    "            else:\n",
    "                curNode.rightChild = Node(s, root = curNode)\n",
    "    \n",
    "    def add(self, s):\n",
    "        '''\n",
    "        добавляет строку в дерево\n",
    "        '''\n",
    "        if self.root:\n",
    "            self._insert(s, self.root)\n",
    "        else:\n",
    "            self.root = Node(s)\n",
    "        self.size = self.size + 1\n",
    "    \n",
    "    # Каков смысл этой функции?\n",
    "    def __add__(self, s):\n",
    "        '''\n",
    "        переопределение оператора сложения\n",
    "        '''\n",
    "        self.add(s)\n",
    "        \n",
    "    def _get(self, str_, curNode, value_ ):\n",
    "        if str_ == curNode.value:\n",
    "            if value_:\n",
    "                return curNode.value \n",
    "            else:\n",
    "                return curNode\n",
    "        elif curNode.isLeaf():\n",
    "            if value_:\n",
    "                return curNode.value \n",
    "            else:\n",
    "                return curNode\n",
    "        elif str_ < curNode.value:            \n",
    "            if curNode.hasLeftChild():\n",
    "                return self._get(str_, curNode.leftChild,value_)\n",
    "            else:\n",
    "                if value_:\n",
    "                    return curNode.value \n",
    "                else:\n",
    "                    return curNode\n",
    "        else:\n",
    "            if curNode.hasRightChild():\n",
    "                return self._get(str_, curNode.rightChild,value_)\n",
    "            else:\n",
    "                if value_:\n",
    "                    return curNode.value \n",
    "                else:\n",
    "                    return curNode\n",
    "        \n",
    "    def get(self, str_, value = True):\n",
    "        '''\n",
    "        возвращает ближайшую с лексической точки зрения строку и расстояние строки-аргумента\n",
    "        до нее\n",
    "        '''\n",
    "        if self.root:\n",
    "            return self._get(str_, self.root, value_ = value)            \n",
    "        else:\n",
    "            return None\n",
    "            \n",
    "    \n",
    "    def isin(self, str_):\n",
    "        '''\n",
    "        возвращает True, если есть точно такая же строка, или False, если её нет\n",
    "        '''\n",
    "        return  str_ == self.get(str_, value=0).value\n",
    "    \n",
    "    def __contains__(self,str_):\n",
    "        if self.isin(str_):\n",
    "            return True\n",
    "        else:\n",
    "            return False\n",
    "      \n",
    "    def remove(self, str_):\n",
    "        '''\n",
    "        удаляет строку. Удаление производится только в случае точного совпадения\n",
    "        строки с указанной. Возвращает 0, если удаление выполнено, и 1 в остальных случаях\n",
    "        '''\n",
    "        if self.size > 1:\n",
    "            nodeRemove = self.get(str_, value=0)\n",
    "            if nodeRemove.value == str_:\n",
    "                self.delete(nodeRemove)\n",
    "                self.size = self.size  - 1\n",
    "            else:\n",
    "                raise KeyError('This value not in the tree')\n",
    "        elif self.size == 1 and self.root == str_:\n",
    "            self.root = None\n",
    "            self.size = self.size - 1  \n",
    "        else:\n",
    "            raise KeyError('This value not in the tree')\n",
    "            \n",
    "    def delete(self, node):\n",
    "        '''\n",
    "        производит неоходимые преобразования в дереве после удаления заданной строки\n",
    "        '''\n",
    "        if node.isLeaf():\n",
    "            if node.root.leftChild == node:\n",
    "                node.root.leftChild  = None\n",
    "            else:\n",
    "                node.root.rightChild  = None\n",
    "        elif node.hasBothChild():\n",
    "            succ = node.findSucc()\n",
    "            succ.removeSucc()\n",
    "            node.value = succ.value\n",
    "           \n",
    "        else:\n",
    "            if node.hasLeftChild():\n",
    "                if node.isLeftChild():\n",
    "                    node.leftChild.root = node.root\n",
    "                    node.root.leftChild = node.leftChild\n",
    "                elif node.isRightChild():\n",
    "                    node.leftChild.root = node.root\n",
    "                    node.root.rightChild = node.leftChild\n",
    "                else:\n",
    "                    node.replaceNodeData(node.leftChild.value,\n",
    "                                         node.leftChild.leftChild,\n",
    "                                         node.rightChild.rightChild)\n",
    "            else:\n",
    "                if node.isLeftChild():\n",
    "                    node.rightChild.root = node.root\n",
    "                    node.root.leftChild = node.rightChild\n",
    "                elif node.isRightChild():\n",
    "                    node.rightChild.root = node.root\n",
    "                    node.root.rightChild = node.rightChild\n",
    "                else:\n",
    "                    node.replaceNodeData(node.rightChild.value,\n",
    "                                         node.rightChild.leftChild,\n",
    "                                         node.rightChild.rightChild)\n",
    "            \n",
    "\n",
    "    def __len__(self):\n",
    "        '''\n",
    "        возвращает количество строк в дереве\n",
    "        '''\n",
    "        return self.size\n",
    "    \n",
    "    def __iter__(self):\n",
    "        return self.root.__iter__()\n",
    "    \n",
    "    def toList(self):\n",
    "        return list(self.root.__iter__())\n",
    "    \n"
   ]
  },
  {
   "cell_type": "code",
   "execution_count": 3,
   "metadata": {},
   "outputs": [],
   "source": [
    "mytree = StrBinTree()"
   ]
  },
  {
   "cell_type": "code",
   "execution_count": 4,
   "metadata": {},
   "outputs": [],
   "source": [
    "mytree.add('ha')"
   ]
  },
  {
   "cell_type": "code",
   "execution_count": 5,
   "metadata": {},
   "outputs": [],
   "source": [
    "mytree + 'table'\n",
    "mytree + 'index'\n",
    "mytree + 'jdghe!'\n",
    "mytree + 'qweqw6A'"
   ]
  },
  {
   "cell_type": "code",
   "execution_count": 6,
   "metadata": {},
   "outputs": [
    {
     "data": {
      "text/plain": [
       "'table'"
      ]
     },
     "execution_count": 6,
     "metadata": {},
     "output_type": "execute_result"
    }
   ],
   "source": [
    "mytree.get('table',value=1)"
   ]
  },
  {
   "cell_type": "code",
   "execution_count": 7,
   "metadata": {},
   "outputs": [
    {
     "data": {
      "text/plain": [
       "<__main__.Node at 0x7fde143ae5c0>"
      ]
     },
     "execution_count": 7,
     "metadata": {},
     "output_type": "execute_result"
    }
   ],
   "source": [
    "mytree.get('table',value=0)"
   ]
  },
  {
   "cell_type": "code",
   "execution_count": 8,
   "metadata": {},
   "outputs": [
    {
     "name": "stdout",
     "output_type": "stream",
     "text": [
      "ha\n",
      "index\n",
      "jdghe!\n",
      "qweqw6A\n",
      "table\n"
     ]
    }
   ],
   "source": [
    "for i in mytree:\n",
    "    print(i)"
   ]
  },
  {
   "cell_type": "code",
   "execution_count": 9,
   "metadata": {},
   "outputs": [
    {
     "data": {
      "text/plain": [
       "['ha', 'index', 'jdghe!', 'qweqw6A', 'table']"
      ]
     },
     "execution_count": 9,
     "metadata": {},
     "output_type": "execute_result"
    }
   ],
   "source": [
    "mytree.toList()"
   ]
  },
  {
   "cell_type": "code",
   "execution_count": 10,
   "metadata": {},
   "outputs": [
    {
     "data": {
      "text/plain": [
       "5"
      ]
     },
     "execution_count": 10,
     "metadata": {},
     "output_type": "execute_result"
    }
   ],
   "source": [
    "len(mytree)"
   ]
  },
  {
   "cell_type": "code",
   "execution_count": 11,
   "metadata": {},
   "outputs": [
    {
     "data": {
      "text/plain": [
       "'ha'"
      ]
     },
     "execution_count": 11,
     "metadata": {},
     "output_type": "execute_result"
    }
   ],
   "source": [
    "mytree.root.value"
   ]
  },
  {
   "cell_type": "code",
   "execution_count": 12,
   "metadata": {},
   "outputs": [
    {
     "data": {
      "text/plain": [
       "'ha'"
      ]
     },
     "execution_count": 12,
     "metadata": {},
     "output_type": "execute_result"
    }
   ],
   "source": [
    "mytree.get('A')"
   ]
  },
  {
   "cell_type": "code",
   "execution_count": 13,
   "metadata": {},
   "outputs": [
    {
     "data": {
      "text/plain": [
       "'ha'"
      ]
     },
     "execution_count": 13,
     "metadata": {},
     "output_type": "execute_result"
    }
   ],
   "source": [
    "mytree.get('asdasd')"
   ]
  },
  {
   "cell_type": "code",
   "execution_count": 14,
   "metadata": {},
   "outputs": [
    {
     "data": {
      "text/plain": [
       "'qweqw6A'"
      ]
     },
     "execution_count": 14,
     "metadata": {},
     "output_type": "execute_result"
    }
   ],
   "source": [
    "mytree.get('jdl')"
   ]
  },
  {
   "cell_type": "code",
   "execution_count": 15,
   "metadata": {},
   "outputs": [
    {
     "data": {
      "text/plain": [
       "'table'"
      ]
     },
     "execution_count": 15,
     "metadata": {},
     "output_type": "execute_result"
    }
   ],
   "source": [
    "mytree.get('table')"
   ]
  },
  {
   "cell_type": "code",
   "execution_count": 16,
   "metadata": {},
   "outputs": [
    {
     "data": {
      "text/plain": [
       "<__main__.Node at 0x7fde143ae5c0>"
      ]
     },
     "execution_count": 16,
     "metadata": {},
     "output_type": "execute_result"
    }
   ],
   "source": [
    "mytree.get('table',value=0)"
   ]
  },
  {
   "cell_type": "code",
   "execution_count": 17,
   "metadata": {},
   "outputs": [
    {
     "data": {
      "text/plain": [
       "True"
      ]
     },
     "execution_count": 17,
     "metadata": {},
     "output_type": "execute_result"
    }
   ],
   "source": [
    "'table' in mytree"
   ]
  },
  {
   "cell_type": "code",
   "execution_count": 18,
   "metadata": {},
   "outputs": [
    {
     "data": {
      "text/plain": [
       "False"
      ]
     },
     "execution_count": 18,
     "metadata": {},
     "output_type": "execute_result"
    }
   ],
   "source": [
    "'taBle' in mytree"
   ]
  },
  {
   "cell_type": "code",
   "execution_count": 19,
   "metadata": {},
   "outputs": [],
   "source": [
    "mytree.remove('table')"
   ]
  },
  {
   "cell_type": "code",
   "execution_count": 20,
   "metadata": {},
   "outputs": [
    {
     "data": {
      "text/plain": [
       "False"
      ]
     },
     "execution_count": 20,
     "metadata": {},
     "output_type": "execute_result"
    }
   ],
   "source": [
    "'table' in mytree"
   ]
  },
  {
   "cell_type": "code",
   "execution_count": 21,
   "metadata": {},
   "outputs": [
    {
     "ename": "KeyError",
     "evalue": "'This value not in the tree'",
     "output_type": "error",
     "traceback": [
      "\u001b[0;31m---------------------------------------------------------------------------\u001b[0m",
      "\u001b[0;31mKeyError\u001b[0m                                  Traceback (most recent call last)",
      "\u001b[0;32m<ipython-input-21-282b9e9c858f>\u001b[0m in \u001b[0;36m<module>\u001b[0;34m\u001b[0m\n\u001b[0;32m----> 1\u001b[0;31m \u001b[0mmytree\u001b[0m\u001b[0;34m.\u001b[0m\u001b[0mremove\u001b[0m\u001b[0;34m(\u001b[0m\u001b[0;34m'bb'\u001b[0m\u001b[0;34m)\u001b[0m\u001b[0;34m\u001b[0m\u001b[0;34m\u001b[0m\u001b[0m\n\u001b[0m",
      "\u001b[0;32m<ipython-input-2-e7c52268a117>\u001b[0m in \u001b[0;36mremove\u001b[0;34m(self, str_)\u001b[0m\n\u001b[1;32m    188\u001b[0m                 \u001b[0mself\u001b[0m\u001b[0;34m.\u001b[0m\u001b[0msize\u001b[0m \u001b[0;34m=\u001b[0m \u001b[0mself\u001b[0m\u001b[0;34m.\u001b[0m\u001b[0msize\u001b[0m  \u001b[0;34m-\u001b[0m \u001b[0;36m1\u001b[0m\u001b[0;34m\u001b[0m\u001b[0;34m\u001b[0m\u001b[0m\n\u001b[1;32m    189\u001b[0m             \u001b[0;32melse\u001b[0m\u001b[0;34m:\u001b[0m\u001b[0;34m\u001b[0m\u001b[0;34m\u001b[0m\u001b[0m\n\u001b[0;32m--> 190\u001b[0;31m                 \u001b[0;32mraise\u001b[0m \u001b[0mKeyError\u001b[0m\u001b[0;34m(\u001b[0m\u001b[0;34m'This value not in the tree'\u001b[0m\u001b[0;34m)\u001b[0m\u001b[0;34m\u001b[0m\u001b[0;34m\u001b[0m\u001b[0m\n\u001b[0m\u001b[1;32m    191\u001b[0m         \u001b[0;32melif\u001b[0m \u001b[0mself\u001b[0m\u001b[0;34m.\u001b[0m\u001b[0msize\u001b[0m \u001b[0;34m==\u001b[0m \u001b[0;36m1\u001b[0m \u001b[0;32mand\u001b[0m \u001b[0mself\u001b[0m\u001b[0;34m.\u001b[0m\u001b[0mroot\u001b[0m \u001b[0;34m==\u001b[0m \u001b[0mstr_\u001b[0m\u001b[0;34m:\u001b[0m\u001b[0;34m\u001b[0m\u001b[0;34m\u001b[0m\u001b[0m\n\u001b[1;32m    192\u001b[0m             \u001b[0mself\u001b[0m\u001b[0;34m.\u001b[0m\u001b[0mroot\u001b[0m \u001b[0;34m=\u001b[0m \u001b[0;32mNone\u001b[0m\u001b[0;34m\u001b[0m\u001b[0;34m\u001b[0m\u001b[0m\n",
      "\u001b[0;31mKeyError\u001b[0m: 'This value not in the tree'"
     ]
    }
   ],
   "source": [
    "mytree.remove('bb')"
   ]
  },
  {
   "cell_type": "code",
   "execution_count": 22,
   "metadata": {},
   "outputs": [],
   "source": [
    "mytree.add('bb')"
   ]
  },
  {
   "cell_type": "code",
   "execution_count": 23,
   "metadata": {},
   "outputs": [
    {
     "data": {
      "text/plain": [
       "['bb', 'ha', 'index', 'jdghe!', 'qweqw6A']"
      ]
     },
     "execution_count": 23,
     "metadata": {},
     "output_type": "execute_result"
    }
   ],
   "source": [
    "mytree.toList()"
   ]
  },
  {
   "cell_type": "code",
   "execution_count": 24,
   "metadata": {},
   "outputs": [],
   "source": [
    "mytree.remove('bb')"
   ]
  },
  {
   "cell_type": "code",
   "execution_count": 25,
   "metadata": {},
   "outputs": [
    {
     "data": {
      "text/plain": [
       "False"
      ]
     },
     "execution_count": 25,
     "metadata": {},
     "output_type": "execute_result"
    }
   ],
   "source": [
    "'bb' in mytree"
   ]
  },
  {
   "cell_type": "code",
   "execution_count": null,
   "metadata": {},
   "outputs": [],
   "source": []
  }
 ],
 "metadata": {
  "kernelspec": {
   "display_name": "Python 3",
   "language": "python",
   "name": "python3"
  },
  "language_info": {
   "codemirror_mode": {
    "name": "ipython",
    "version": 3
   },
   "file_extension": ".py",
   "mimetype": "text/x-python",
   "name": "python",
   "nbconvert_exporter": "python",
   "pygments_lexer": "ipython3",
   "version": "3.7.3"
  }
 },
 "nbformat": 4,
 "nbformat_minor": 2
}
