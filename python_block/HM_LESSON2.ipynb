{
 "cells": [
  {
   "cell_type": "code",
   "execution_count": 80,
   "metadata": {},
   "outputs": [],
   "source": [
    "import random\n",
    "import string\n",
    "random.seed(0)"
   ]
  },
  {
   "cell_type": "code",
   "execution_count": 81,
   "metadata": {},
   "outputs": [],
   "source": [
    "#СПИСОК ИЗ СТРОК\n",
    "lst_src = [''.join(random.choices(string.ascii_lowercase, k=random.randint(3,8))) for _ in range(1000)]"
   ]
  },
  {
   "cell_type": "markdown",
   "metadata": {},
   "source": [
    "Дерево будет представленно в виде массива. Левый ребенок будет находиться на позиции 2 * {текущая позиция родителя} + 1, \n",
    "правый-  2 * {текущая позиция родителя} + 2"
   ]
  },
  {
   "cell_type": "code",
   "execution_count": 82,
   "metadata": {},
   "outputs": [],
   "source": [
    "#Вспомогательные функции\n",
    "def nodeIndex(p, lst):\n",
    "    \"\"\"Возвращает индекс позиции текущего элемента в дереве\"\"\"\n",
    "    return lst.index(p)\n",
    "\n",
    "def rightChild(p, lst):\n",
    "    \"\"\"Возвращает левого ребенка текущего элемента.\n",
    "    Если позиция левого ребенка в массиве дерева превысит размер дерева\n",
    "    (что равнозначно тому, что ребенка нет), вернет None\"\"\"\n",
    "    \n",
    "    ind  = 2 * nodeIndex(p, lst) + 2\n",
    "    if ind >= len(lst):\n",
    "        return None\n",
    "    return lst[ind]\n",
    "\n",
    "def leftChild(p, lst):\n",
    "    \"\"\"Возвращает правого ребенка текущего элемента.\n",
    "    Если позиция правого ребенка в массиве дерева превысит размер дерева\n",
    "    (что равнозначно тому, что ребенка нет), вернет None\"\"\"    \n",
    "    ind  = 2 * nodeIndex(p, lst) + 1\n",
    "    if ind >= len(lst):\n",
    "        return None\n",
    "    return lst[ind]\n",
    "\n",
    "def isleaf(p, lst):\n",
    "    \"\"\"Вернет  True, если позиция является листом в дереве\"\"\"    \n",
    "    return (rightChild(p, lst) is None and leftChild(p, lst) is None) \n",
    "\n",
    "def isroot(p, lst):\n",
    "    \"\"\"Вернет True,  если позиция является корнем дерева\"\"\"\n",
    "    return p == lst[0]\n",
    "\n",
    "def get_root(lst):\n",
    "    \"\"\"Вернет корень дерева\"\"\" \n",
    "    return  lst[0]\n",
    "\n",
    "def get_parent(p, lst):\n",
    "    \"\"\"Вернет родителя текущей позиции\"\"\"\n",
    "    if isroot(p, lst):\n",
    "        return p \n",
    "    return (nodeIndex(p, lst) - 1) // 2"
   ]
  },
  {
   "cell_type": "code",
   "execution_count": 94,
   "metadata": {},
   "outputs": [],
   "source": [
    "#Функции построения Бинарного Дерева Поиска\n",
    "def insertTree(node, cur, tree):\n",
    "    \"\"\"Вставка новой позиции в дерево. При вставке происходит сравнение с текущей позицией.\n",
    "    Если новая позиция меньше текущей, происходит вставка на место левого ребенка \n",
    "    (или рекурсивно запускается вставка с текущей позцией, равной левому ребенку),\n",
    "    если больше - аналогично, только на место правого ребенка текущей позиции\"\"\"\n",
    "    if node <= cur:\n",
    "        l = leftChild(cur, tree)\n",
    "        if l is not None:\n",
    "            insertTree(node, l, tree)\n",
    "        else:\n",
    "            tree[2 * nodeIndex(cur,tree) + 1] = node\n",
    "    else:\n",
    "        r = rightChild(cur, tree)\n",
    "        if r is not None:\n",
    "            insertTree(node, r, tree)\n",
    "        else:\n",
    "            tree[2 * nodeIndex(cur,tree) + 2] = node\n",
    "\n",
    "def buildTree(lst):\n",
    "    \"\"\"Функция запуска построения Двоичного Бинарного Дерева Поиска (BST)\"\"\"\n",
    "    tree = [None] * 20000 * len(lst) #Заполняем первоначльно массив None.2000 - приблизительная максимальная оценка размера дерева\n",
    "    tree[0] = lst[0]#Задаем корень как первый элемент в списке\n",
    "    lst = lst[1:]\n",
    "    for n in lst:\n",
    "        insertTree(n, tree[0], tree)   \n",
    "    return tree"
   ]
  },
  {
   "cell_type": "code",
   "execution_count": 84,
   "metadata": {},
   "outputs": [],
   "source": [
    "tree = buildTree(lst_src)"
   ]
  },
  {
   "cell_type": "code",
   "execution_count": 95,
   "metadata": {},
   "outputs": [],
   "source": [
    "#Поиск похожего элемента в дереве\n",
    "def Sim(node, word, lst):\n",
    "    \"\"\"Сравнивает похожесть текущей позиции с заданной.\n",
    "    Если слова равны, возвращает слово и его индекс в дереве.\n",
    "    Если текущая позиция меньше заданного слова, то рекурсивно запускается поиск похожего с левым ребенком текущей позиции,\n",
    "    иначе, если текущая позиция больше заданного слова, рекурсивно запускается поиск похожего с правым ребенком.\n",
    "    Если текущая позиция ялвяется листом, возвращаем лист и его индекс в дереве. \n",
    "    Если левый или правый ребенок отсутствует,\n",
    "    возвращаем текущую позицию и индекс в дереве\"\"\"\n",
    "    #print(node)\n",
    "    if node == word or isleaf(node, lst):\n",
    "        return (nodeIndex(node,lst),node)   \n",
    "    elif node > word:\n",
    "        l = leftChild(node,lst)\n",
    "        \n",
    "        #print('l',l)\n",
    "        if l is  None:\n",
    "            return (nodeIndex(node,lst),node)\n",
    "        return Sim(l,word,lst)\n",
    "    else:\n",
    "        r = rightChild(node,lst)\n",
    "        #print('r',r)\n",
    "        if r is  None:\n",
    "            return (nodeIndex(node,lst),node)\n",
    "        return Sim(r,word,lst)\n",
    "\n",
    "def findSim(tree_, word):\n",
    "    \"\"\"Функция поиска похожего слова к заданному слову в дереве\"\"\"\n",
    "    root = get_root(tree)\n",
    "    return Sim(root, word, tree_)"
   ]
  },
  {
   "cell_type": "code",
   "execution_count": 98,
   "metadata": {},
   "outputs": [],
   "source": [
    "z = findSim(tree,'kkl')"
   ]
  },
  {
   "cell_type": "code",
   "execution_count": 99,
   "metadata": {},
   "outputs": [
    {
     "data": {
      "text/plain": [
       "(5217, 'kksfla')"
      ]
     },
     "execution_count": 99,
     "metadata": {},
     "output_type": "execute_result"
    }
   ],
   "source": [
    "z"
   ]
  }
 ],
 "metadata": {
  "kernelspec": {
   "display_name": "Python 3",
   "language": "python",
   "name": "python3"
  },
  "language_info": {
   "codemirror_mode": {
    "name": "ipython",
    "version": 3
   },
   "file_extension": ".py",
   "mimetype": "text/x-python",
   "name": "python",
   "nbconvert_exporter": "python",
   "pygments_lexer": "ipython3",
   "version": "3.7.3"
  }
 },
 "nbformat": 4,
 "nbformat_minor": 2
}
