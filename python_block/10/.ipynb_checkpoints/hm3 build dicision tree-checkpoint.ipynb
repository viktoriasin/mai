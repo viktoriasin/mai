{
 "cells": [
  {
   "cell_type": "code",
   "execution_count": 1,
   "metadata": {},
   "outputs": [],
   "source": [
    "import numpy as np\n",
    "import pandas as pd\n",
    "import matplotlib.pyplot as plt\n",
    "import scipy as sc\n",
    "from numpy.random import randn\n",
    "import seaborn as sns\n",
    "from scipy import stats\n",
    "\n",
    "%matplotlib inline"
   ]
  },
  {
   "cell_type": "code",
   "execution_count": 2,
   "metadata": {},
   "outputs": [],
   "source": [
    "from sklearn.model_selection import KFold, train_test_split, GridSearchCV, cross_val_score\n",
    "\n",
    "from sklearn.metrics import accuracy_score \n",
    "\n",
    "from sklearn.tree import DecisionTreeClassifier\n",
    "from sklearn.neighbors import KNeighborsClassifier\n",
    "from sklearn.ensemble import RandomForestClassifier, GradientBoostingClassifier"
   ]
  },
  {
   "cell_type": "code",
   "execution_count": 3,
   "metadata": {},
   "outputs": [],
   "source": [
    "import os\n",
    "import os.path"
   ]
  },
  {
   "cell_type": "code",
   "execution_count": 17,
   "metadata": {},
   "outputs": [],
   "source": [
    "import math"
   ]
  },
  {
   "cell_type": "code",
   "execution_count": 18,
   "metadata": {},
   "outputs": [],
   "source": [
    "def entropy_func(cls_cnt, all_cnt):\n",
    "    return -(cls_cnt*1.0 /all_cnt)*math.log(cls_cnt*1.0 /all_cnt,2)"
   ]
  },
  {
   "cell_type": "code",
   "execution_count": 19,
   "metadata": {},
   "outputs": [],
   "source": [
    "def get_entropy_cls(cl1_cnt,cl2_cnt):\n",
    "    if cl1_cnt == 0 or cl2_cnt == 0:\n",
    "        return 0\n",
    "    return entropy_func(cl1_cnt, cl2_cnt + cl1_cnt) + entropy_func(cl2_cnt, cl2_cnt + cl1_cnt)"
   ]
  },
  {
   "cell_type": "code",
   "execution_count": 20,
   "metadata": {},
   "outputs": [],
   "source": [
    "def get_entropy_one_division(division):\n",
    "    n = len(division)\n",
    "    classes = set(division)\n",
    "    s = 0\n",
    "    for c in classes:\n",
    "        cl_cnt = np.sum(division == c)\n",
    "        s += cl_cnt * 1.0/ n * get_entropy_cls(np.sum(division == c),np.sum(division != c))\n",
    "    return s, n"
   ]
  },
  {
   "cell_type": "code",
   "execution_count": 21,
   "metadata": {},
   "outputs": [],
   "source": [
    "def get_entropy(y_pred, y):\n",
    "    \n",
    "    if len(y_pred) != len(y):\n",
    "        print(\"y_pred and y must be the same length\")\n",
    "        return None\n",
    "    n = len(y)\n",
    "    s_true, n_true = get_entropy_one_division(y[y_pred])\n",
    "    s_false, n_false  = get_entropy_one_division(y[~y_pred])\n",
    "    s = n_true * 1.0 / n * s_true + n_false * 1.0 / n * s_false\n",
    "    return s"
   ]
  },
  {
   "cell_type": "code",
   "execution_count": 43,
   "metadata": {},
   "outputs": [],
   "source": [
    "class DecisionTreeClassifier(object):\n",
    "    def __init__(self, max_depth, min_node_records=10):\n",
    "        self.depth = 0\n",
    "        self.max_depth = max_depth\n",
    "        self.min_node_records = min_node_records\n",
    "        \n",
    "    def find_best_split(self, col, y):\n",
    "        min_entropy = 10\n",
    "        for value in col:\n",
    "            y_pred = col < value\n",
    "            entr = get_entropy(y_pred,y)\n",
    "            if entr < min_entropy:\n",
    "                min_entropy = entr\n",
    "                cutoff = value\n",
    "        return min_entropy, cutoff\n",
    "    \n",
    "    def find_best_split_all(self, x, y):\n",
    "        min_entr = 1\n",
    "        col = None\n",
    "        cutoff = None\n",
    "        \n",
    "        for i, c in enumerate(x.T):\n",
    "            if len(c) < self.min_node_records:\n",
    "                print(\"Column have fewer than min node records\")\n",
    "                return None,0,0            \n",
    "            entr, cur_cutoff = self.find_best_split(c, y)\n",
    "            if entr == 0:\n",
    "                return i, cur_cutoff, entr\n",
    "            if entr < min_entr:\n",
    "                min_entr = entr\n",
    "                cutoff = cur_cutoff\n",
    "                col = i\n",
    "        return col, cutoff, entr\n",
    "    \n",
    "    def fit(self, x, y, par_node = {}, depth = 0):\n",
    "        if par_node is None:\n",
    "            return None\n",
    "        elif len(y) == 0:\n",
    "            return None\n",
    "        elif depth > self.max_depth:\n",
    "            return None\n",
    "        elif self.all_same(y):\n",
    "            return {'val':y[0]}\n",
    "        else:\n",
    "            col, cutoff, entr = self.find_best_split_all(x,y)\n",
    "            if not col: \n",
    "                return None\n",
    "            y_left = y[x[:, col] < cutoff]\n",
    "            y_right = y[x[:,col] >= cutoff]\n",
    "            par_node = {'col': iris.feature_names[col], 'index_col':col,\n",
    "                    'cutoff':cutoff,\n",
    "                   'val': np.round(np.mean(y))}   \n",
    "        \n",
    "        par_node['left'] = self.fit(x[x[:, col] < cutoff], y_left, {}, depth+1)   \n",
    "        \n",
    "        par_node['right'] = self.fit(x[x[:, col] >= cutoff], y_right, {}, depth+1)  \n",
    "        self.depth += 1  \n",
    "        self.trees = par_node  \n",
    "        return par_node\n",
    "    \n",
    "    def all_same(self, items):\n",
    "        return all(x == items[0] for x in items)\n",
    "    \n",
    "    def predict(self,x):\n",
    "        res = np.array([0]*len(x))\n",
    "        \n",
    "        for i,row in enumerate(x):\n",
    "            res[i] = self._predict(row)\n",
    "            \n",
    "        return res\n",
    "    \n",
    "    def _predict(self, row):\n",
    "        tree = self.trees\n",
    "        while tree.get('cutoff'):\n",
    "            if row[tree['index_col']] < tree['cutoff']:\n",
    "                if not tree['left']:\n",
    "                    return tree.get('val')\n",
    "                tree = tree['left']\n",
    "                 \n",
    "            else:\n",
    "                if not tree['right']:\n",
    "                    return tree.get('val')\n",
    "                tree = tree['right']\n",
    "        else:   \n",
    "            return tree.get('val')\n",
    "            \n",
    "            \n",
    "    \n",
    "                "
   ]
  },
  {
   "cell_type": "code",
   "execution_count": 44,
   "metadata": {},
   "outputs": [
    {
     "name": "stdout",
     "output_type": "stream",
     "text": [
      "Column have fewer than min node records\n",
      "Column have fewer than min node records\n",
      "{'col': 'petal length (cm)',\n",
      " 'cutoff': 3.0,\n",
      " 'index_col': 2,\n",
      " 'left': {'val': 0},\n",
      " 'right': {'col': 'petal width (cm)',\n",
      "           'cutoff': 1.8,\n",
      "           'index_col': 3,\n",
      "           'left': {'col': 'petal length (cm)',\n",
      "                    'cutoff': 5.6,\n",
      "                    'index_col': 2,\n",
      "                    'left': {'col': 'petal width (cm)',\n",
      "                             'cutoff': 1.5,\n",
      "                             'index_col': 3,\n",
      "                             'left': {'val': 1},\n",
      "                             'right': {'col': 'sepal width (cm)',\n",
      "                                       'cutoff': 2.7,\n",
      "                                       'index_col': 1,\n",
      "                                       'left': None,\n",
      "                                       'right': {'val': 1},\n",
      "                                       'val': 1.0},\n",
      "                             'val': 1.0},\n",
      "                    'right': {'val': 2},\n",
      "                    'val': 1.0},\n",
      "           'right': {'col': 'petal length (cm)',\n",
      "                     'cutoff': 4.9,\n",
      "                     'index_col': 2,\n",
      "                     'left': None,\n",
      "                     'right': {'val': 2},\n",
      "                     'val': 2.0},\n",
      "           'val': 1.0},\n",
      " 'val': 1.0}\n"
     ]
    }
   ],
   "source": [
    "from sklearn.datasets import load_iris\n",
    "from pprint import pprint\n",
    "from sklearn.model_selection import train_test_split\n",
    "\n",
    "\n",
    "iris = load_iris()\n",
    "X_train, X_test, y_train, y_test = train_test_split( iris.data, iris.target, test_size=0.3, random_state=121)\n",
    "\n",
    "\n",
    "clf = DecisionTreeClassifier(max_depth=7)\n",
    "m = clf.fit(X_train, y_train)\n",
    "\n",
    "pprint(m)"
   ]
  },
  {
   "cell_type": "code",
   "execution_count": 45,
   "metadata": {},
   "outputs": [],
   "source": [
    "y_pred = clf.predict(X_test)"
   ]
  },
  {
   "cell_type": "code",
   "execution_count": 49,
   "metadata": {},
   "outputs": [],
   "source": [
    "def simple_accuracy(y_pred, y_test):\n",
    "    return sum(y_pred == y_test) / len(y_pred)"
   ]
  },
  {
   "cell_type": "code",
   "execution_count": 50,
   "metadata": {},
   "outputs": [
    {
     "data": {
      "text/plain": [
       "0.98"
      ]
     },
     "execution_count": 50,
     "metadata": {},
     "output_type": "execute_result"
    }
   ],
   "source": [
    "simple_accuracy(y_pred, y_test)"
   ]
  },
  {
   "cell_type": "code",
   "execution_count": null,
   "metadata": {},
   "outputs": [],
   "source": []
  }
 ],
 "metadata": {
  "kernelspec": {
   "display_name": "Python 3",
   "language": "python",
   "name": "python3"
  },
  "language_info": {
   "codemirror_mode": {
    "name": "ipython",
    "version": 3
   },
   "file_extension": ".py",
   "mimetype": "text/x-python",
   "name": "python",
   "nbconvert_exporter": "python",
   "pygments_lexer": "ipython3",
   "version": "3.7.3"
  }
 },
 "nbformat": 4,
 "nbformat_minor": 2
}
