{
 "cells": [
  {
   "cell_type": "markdown",
   "metadata": {},
   "source": [
    "# Машинное обучение, ФКН ВШЭ\n",
    "\n",
    "## Практическое задание 3. Градиентный спуск своими руками\n",
    "\n",
    "### Общая информация\n",
    "Дата выдачи: 05.10.2019\n",
    "\n",
    "Мягкий дедлайн: 07:59MSK 15.10.2019 (за каждый день просрочки снимается 1 балл)\n",
    "\n",
    "Жесткий дедлайн: 23:59MSK 17.10.2019"
   ]
  },
  {
   "cell_type": "markdown",
   "metadata": {},
   "source": [
    "### О задании\n",
    "\n",
    "В данном задании необходимо реализовать обучение линейной регрессии с помощью различных вариантов градиентного спуска.\n",
    "\n",
    "\n",
    "### Оценивание и штрафы\n",
    "Каждая из задач имеет определенную «стоимость» (указана в скобках около задачи). Максимально допустимая оценка за работу — 10 баллов.\n",
    "\n",
    "Сдавать задание после указанного срока сдачи нельзя. При выставлении неполного балла за задание в связи с наличием ошибок на усмотрение проверяющего предусмотрена возможность исправить работу на указанных в ответном письме условиях.\n",
    "\n",
    "Задание выполняется самостоятельно. «Похожие» решения считаются плагиатом и все задействованные студенты (в том числе те, у кого списали) не могут получить за него больше 0 баллов (подробнее о плагиате см. на странице курса). Если вы нашли решение какого-то из заданий (или его часть) в открытом источнике, необходимо указать ссылку на этот источник в отдельном блоке в конце вашей работы (скорее всего вы будете не единственным, кто это нашел, поэтому чтобы исключить подозрение в плагиате, необходима ссылка на источник).\n",
    "\n",
    "Неэффективная реализация кода может негативно отразиться на оценке.\n",
    "\n",
    "Все ответы должны сопровождаться кодом или комментариями о том, как они были получены.\n",
    "\n",
    "\n",
    "### Формат сдачи\n",
    "Задания сдаются через систему Anytask. Инвайт можно найти на странице курса. Присылать необходимо ноутбук с выполненным заданием. \n",
    "\n",
    "Для удобства проверки самостоятельно посчитайте свою максимальную оценку (исходя из набора решенных задач) и укажите ниже.\n",
    "\n",
    "**Оценка**: ..."
   ]
  },
  {
   "cell_type": "markdown",
   "metadata": {},
   "source": [
    "## Реализация градиентного спуска\n",
    "\n",
    "Реализуйте линейную регрессию с функцией потерь MSE, обучаемую с помощью:\n",
    "\n",
    "** Задание 1 (1 балл)** Градиентного спуска;\n",
    "\n",
    "** Задание 2 (1.5 балла)** Стохастического градиентного спуска;\n",
    "\n",
    "** Задание 3 (2.5 балла)** Метода Momentum.\n",
    "\n",
    "\n",
    "Во всех пунктах необходимо соблюдать следующие условия:\n",
    "\n",
    "* Все вычисления должны быть векторизованы;\n",
    "* Циклы средствами python допускается использовать только для итераций градиентного спуска;\n",
    "* В качестве критерия останова необходимо использовать (одновременно):\n",
    "\n",
    "    * проверку на евклидовую норму разности весов на двух соседних итерациях (например, меньше некоторого малого числа порядка $10^{-6}$, задаваемого параметром `tolerance`);\n",
    "    * достижение максимального числа итераций (например, 10000, задаваемого параметром `max_iter`).\n",
    "* Чтобы проследить, что оптимизационный процесс действительно сходится, будем использовать атрибут класса `loss_history` — в нём после вызова метода `fit` должны содержаться значения функции потерь для всех итераций, начиная с первой (до совершения первого шага по антиградиенту);\n",
    "* Инициализировать веса можно случайным образом или нулевым вектором. \n",
    "\n",
    "\n",
    "Ниже приведён шаблон класса, который должен содержать код реализации каждого из методов."
   ]
  },
  {
   "cell_type": "code",
   "execution_count": 135,
   "metadata": {},
   "outputs": [
    {
     "name": "stdout",
     "output_type": "stream",
     "text": [
      "Populating the interactive namespace from numpy and matplotlib\n"
     ]
    }
   ],
   "source": [
    "import numpy as np\n",
    "import pandas as pd\n",
    "import re\n",
    "\n",
    "\n",
    "from sklearn.model_selection import train_test_split\n",
    "from scipy.linalg import norm\n",
    "\n",
    "import warnings\n",
    "warnings.filterwarnings('ignore')\n",
    "\n",
    "%pylab inline"
   ]
  },
  {
   "cell_type": "code",
   "execution_count": 327,
   "metadata": {},
   "outputs": [],
   "source": [
    "import numpy as np\n",
    "from sklearn.base import BaseEstimator\n",
    "\n",
    "class LinearReg(BaseEstimator):\n",
    "    def __init__(self, gd_type='stochastic', \n",
    "                 tolerance=1e-6, max_iter=1000, w0=None, alpha=1e-3, eta=1e-6,\n",
    "                batch_size=1, mod = None):\n",
    "        \"\"\"\n",
    "        gd_type: 'full' or 'stochastic' or 'momentum'\n",
    "        tolerance: for stopping gradient descent\n",
    "        max_iter: maximum number of steps in gradient descent\n",
    "        w0: np.array of shape (d) - init weights\n",
    "        eta: learning rate\n",
    "        alpha: momentum coefficient\n",
    "        \"\"\"\n",
    "        self.gd_type = gd_type\n",
    "        self.tolerance = tolerance\n",
    "        self.max_iter = max_iter\n",
    "        self.w0 = w0\n",
    "        self.alpha = alpha\n",
    "        self.w = None\n",
    "        self.eta = eta\n",
    "        self.loss_history = None # list of loss function values at each training iteration\n",
    "        self.prev_w = None\n",
    "        self.batch_size = batch_size\n",
    "        self.mod = mod\n",
    "        self.h = 0\n",
    "    \n",
    "    def fit(self, X, y):\n",
    "        \"\"\"\n",
    "        X: np.array of shape (ell, d)\n",
    "        y: np.array of shape (ell)\n",
    "        ---\n",
    "        output: self\n",
    "        \"\"\"\n",
    "        self.loss_history = []\n",
    "        #TODO add check that w0 is not None\n",
    "        self.w0 = np.random.uniform(-2, 2, (X.shape[1]))\n",
    "        self.w = self.w0.copy()\n",
    "        #добавляем начальные потери\n",
    "        self.loss_history.append(self.calc_loss(X, y))\n",
    "        \n",
    "        #начинаем итерационный процесс градиентного спуска\n",
    "        for i in tqdm_notebook((range(self.max_iter))):\n",
    "            #обновляем веса\n",
    "            self.prev_w = self.w.copy()\n",
    "            grad = self.calc_gradient(X, y)\n",
    "            if self.mod is None:\n",
    "                self.w -= self.eta * grad\n",
    "            elif self.mod == 'momentum':\n",
    "                self.h = self.alpha * self.h + self.eta * grad\n",
    "                self.w -= self.h\n",
    "                \n",
    "            if norm(self.w - self.prev_w) < self.tolerance:\n",
    "                break\n",
    "\n",
    "            self.loss_history.append(self.calc_loss(X, y))\n",
    "        return self\n",
    "    \n",
    "    def predict(self, X):\n",
    "        if self.w is None:\n",
    "            raise Exception('Not trained yet')\n",
    "        return np.dot(X, self.w)\n",
    "    \n",
    "    def calc_gradient(self, X, y):\n",
    "        \"\"\"\n",
    "        X: np.array of shape (ell, d) (ell can be equal to 1 if stochastic)\n",
    "        y: np.array of shape (ell)\n",
    "        ---\n",
    "        output: np.array of shape (d)\n",
    "        \"\"\"\n",
    "        if  self.gd_type == 'stochastic':\n",
    "            sample = np.random.randint(X.shape[0], size=self.batch_size)\n",
    "            grad = 2 * np.dot(X.iloc[sample].T, np.dot(X.iloc[sample], self.w) - y.iloc[sample]) / y.iloc[sample].shape[0]\n",
    "        elif self.gd_type == 'full':\n",
    "            grad = 2 * np.dot(X.T, np.dot(X, self.w) - y) / y.shape[0]\n",
    "        else:\n",
    "            raise Exception('Unknown GD type')\n",
    "        return grad\n",
    "\n",
    "    def calc_loss(self, X, y):\n",
    "        \"\"\"\n",
    "        X: np.array of shape (ell, d)\n",
    "        y: np.array of shape (ell)\n",
    "        ---\n",
    "        output: float \n",
    "        \"\"\" \n",
    "        #debag\n",
    "        #print(np.dot(X, self.w) .shape)\n",
    "        return np.mean(np.power(np.dot(X, self.w) - y, 2))"
   ]
  },
  {
   "cell_type": "code",
   "execution_count": 49,
   "metadata": {},
   "outputs": [],
   "source": [
    "linreg_simple = LinearReg(BaseEstimator)"
   ]
  },
  {
   "cell_type": "code",
   "execution_count": 170,
   "metadata": {},
   "outputs": [],
   "source": [
    "n_features = 2\n",
    "n_objects = 300\n",
    "batch_size = 10\n",
    "num_steps = 43\n",
    "\n",
    "w_true = np.random.normal(size=(n_features, ))\n",
    "\n",
    "X = np.random.uniform(-5, 5, (n_objects, n_features))\n",
    "X *= (np.arange(n_features) * 2 + 1)[np.newaxis, :]  # for different scales  => array([[1, 3]])\n",
    "Y = X.dot(w_true) + np.random.normal(0, 1, (n_objects))\n",
    "w_0 = np.random.uniform(-2, 2, (n_features))"
   ]
  },
  {
   "cell_type": "code",
   "execution_count": 171,
   "metadata": {},
   "outputs": [
    {
     "name": "stdout",
     "output_type": "stream",
     "text": [
      "1.913539062502969\n",
      "[ 0.68415085 -2.20131894]\n",
      "1.099256309651673\n",
      "[ 0.54264547 -1.11120855]\n",
      "0.6333573181583113\n",
      "[ 0.46407965 -1.73967407]\n",
      "0.3671158868163819\n",
      "[ 0.37735158 -1.38294964]\n",
      "0.21532006896095768\n",
      "[ 0.31831827 -1.59001919]\n",
      "0.12910686206809951\n",
      "[ 0.26241662 -1.47364227]\n",
      "0.08037617728227686\n",
      "[ 0.22039826 -1.54216079]\n",
      "0.0528631655913261\n",
      "[ 0.18336468 -1.50443775]\n",
      "0.03710006186963491\n",
      "[ 0.15415268 -1.52730856]\n",
      "0.0276503021920848\n",
      "[ 0.12927151 -1.51524761]\n",
      "0.02153981274548782\n",
      "[ 0.10918117 -1.52301561]\n",
      "0.01724438860958342\n",
      "[ 0.09234749 -1.51927445]\n",
      "0.01401485452173355\n",
      "[ 0.07860072 -1.5220025 ]\n",
      "0.011478936759220433\n",
      "[ 0.0671727  -1.52092244]\n",
      "0.009438348310933332\n",
      "[ 0.05778932 -1.52193952]\n",
      "0.007775244893926389\n",
      "[ 0.05001822 -1.52168564]\n",
      "0.00641109620427883\n",
      "[ 0.04362068 -1.52210238]\n",
      "0.005288640815290356\n",
      "[ 0.03833206 -1.52208755]\n",
      "0.00436364380722326\n",
      "[ 0.0339727  -1.52228082]\n",
      "0.0036008048015494856\n",
      "[ 0.03037214 -1.5223226 ]\n",
      "0.0029714716346095622\n",
      "[ 0.02740241 -1.52242451]\n",
      "0.0024521897249689464\n",
      "[ 0.02495065 -1.52246998]\n",
      "0.0020236788510467466\n",
      "[ 0.02292785 -1.52252964]\n",
      "0.0016700579792575073\n",
      "[ 0.02125819 -1.5225662 ]\n",
      "0.001378233100432338\n",
      "[ 0.01988046 -1.52260363]\n",
      "0.0011374029952948327\n",
      "[ 0.01874337 -1.52263036]\n",
      "0.0009386557204767212\n",
      "[ 0.01780504 -1.5226548 ]\n",
      "0.0007746373370685281\n",
      "[ 0.01703063 -1.5226736 ]\n",
      "0.0006392792140259986\n",
      "[ 0.01639156 -1.52268991]\n",
      "0.0005275732559745704\n",
      "[ 0.01586414 -1.52270291]\n",
      "0.00043538651610825337\n",
      "[ 0.0154289 -1.5227139]\n",
      "0.0003593082464765479\n",
      "[ 0.0150697  -1.52272282]\n",
      "0.00029652369152783335\n",
      "[ 0.01477327 -1.52273027]\n",
      "0.0002447099414821561\n",
      "[ 0.01452863 -1.52273637]\n",
      "0.0002019499867299456\n",
      "[ 0.01432675 -1.52274143]\n",
      "0.00016666179121683494\n",
      "[ 0.01416014 -1.52274559]\n",
      "0.00013753975978459909\n",
      "[ 0.01402264 -1.52274903]\n",
      "0.00011350643352225369\n",
      "[ 0.01390917 -1.52275187]\n",
      "9.367262580932277e-05\n",
      "[ 0.01381553 -1.52275421]\n",
      "7.730452410618128e-05\n",
      "[ 0.01373825 -1.52275614]\n",
      "6.379654029965628e-05\n",
      "[ 0.01367447 -1.52275774]\n",
      "5.264890511012988e-05\n",
      "[ 0.01362184 -1.52275905]\n",
      "4.3449177593192055e-05\n",
      "[ 0.0135784  -1.52276014]\n",
      "3.5856985621637566e-05\n",
      "[ 0.01354256 -1.52276104]\n",
      "2.9591432774854793e-05\n",
      "[ 0.01351297 -1.52276178]\n",
      "2.4420705714347583e-05\n",
      "[ 0.01348856 -1.52276239]\n",
      "2.015349753844476e-05\n",
      "[ 0.01346841 -1.52276289]\n",
      "1.6631929796906017e-05\n",
      "[ 0.01345179 -1.52276331]\n",
      "1.3725711293612805e-05\n",
      "[ 0.01343807 -1.52276365]\n",
      "1.1327317564242105e-05\n",
      "[ 0.01342674 -1.52276393]\n",
      "9.348012679007691e-06\n",
      "[ 0.0134174  -1.52276417]\n",
      "7.714566184919735e-06\n",
      "[ 0.01340968 -1.52276436]\n",
      "6.366543720578963e-06\n",
      "[ 0.01340332 -1.52276452]\n",
      "5.254071061750219e-06\n",
      "[ 0.01339807 -1.52276465]\n",
      "4.335988871426171e-06\n",
      "[ 0.01339373 -1.52276476]\n",
      "3.578329884035105e-06\n",
      "[ 0.01339016 -1.52276485]\n",
      "2.953062182277658e-06\n",
      "[ 0.0133872  -1.52276492]\n",
      "2.4370520703934467e-06\n",
      "[ 0.01338477 -1.52276498]\n",
      "2.011208172119292e-06\n",
      "[ 0.01338276 -1.52276503]\n",
      "1.6597750867773935e-06\n",
      "[ 0.0133811  -1.52276507]\n",
      "1.3697504698253697e-06\n",
      "[ 0.01337973 -1.52276511]\n",
      "1.130403971319604e-06\n",
      "[ 0.0133786  -1.52276514]\n",
      "9.328802336810266e-07\n"
     ]
    },
    {
     "data": {
      "text/plain": [
       "LinearReg(alpha=0.001, eta=0.01, gd_type=<class 'sklearn.base.BaseEstimator'>,\n",
       "          max_iter=1000, tolerance=1e-06, w0=array([ 0.77478682, -0.2899276 ]))"
      ]
     },
     "execution_count": 171,
     "metadata": {},
     "output_type": "execute_result"
    }
   ],
   "source": [
    "linreg_simple.fit(X,Y)"
   ]
  },
  {
   "cell_type": "code",
   "execution_count": 172,
   "metadata": {},
   "outputs": [
    {
     "data": {
      "text/plain": [
       "[<matplotlib.lines.Line2D at 0x7fefac5695f8>]"
      ]
     },
     "execution_count": 172,
     "metadata": {},
     "output_type": "execute_result"
    },
    {
     "data": {
      "image/png": "[encoded data removed]",
      "text/plain": [
       "<Figure size 432x288 with 1 Axes>"
      ]
     },
     "metadata": {
      "needs_background": "light"
     },
     "output_type": "display_data"
    }
   ],
   "source": [
    "plt.plot(linreg_simple.loss_history)"
   ]
  },
  {
   "cell_type": "markdown",
   "metadata": {},
   "source": [
    "# ** Задание 4 (0 баллов)**. \n",
    "* Загрузите данные из домашнего задания 2 ([train.csv](https://www.kaggle.com/c/nyc-taxi-trip-duration/data));\n",
    "* Разбейте выборку на обучающую и тестовую в отношении 7:3 с random_seed=0;\n",
    "* Преобразуйте целевую переменную `trip_duration` как $\\hat{y} = \\log{(y + 1)}$."
   ]
  },
  {
   "cell_type": "code",
   "execution_count": 55,
   "metadata": {},
   "outputs": [
    {
     "name": "stdout",
     "output_type": "stream",
     "text": [
      "1.ipynb  train.csv\r\n"
     ]
    }
   ],
   "source": [
    "!ls"
   ]
  },
  {
   "cell_type": "code",
   "execution_count": 57,
   "metadata": {},
   "outputs": [
    {
     "name": "stdout",
     "output_type": "stream",
     "text": [
      "id,vendor_id,pickup_datetime,dropoff_datetime,passenger_count,pickup_longitude,pickup_latitude,dropoff_longitude,dropoff_latitude,store_and_fwd_flag,trip_duration\r\n",
      "id2875421,2,2016-03-14 17:24:55,2016-03-14 17:32:30,1,-73.982154846191406,40.767936706542969,-73.964630126953125,40.765602111816406,N,455\r\n"
     ]
    }
   ],
   "source": [
    "!head -n 2 train.csv"
   ]
  },
  {
   "cell_type": "code",
   "execution_count": 60,
   "metadata": {},
   "outputs": [],
   "source": [
    "data = pd.read_csv('train.csv', sep=',')"
   ]
  },
  {
   "cell_type": "code",
   "execution_count": 61,
   "metadata": {},
   "outputs": [
    {
     "data": {
      "text/html": [
       "<div>\n",
       "<style scoped>\n",
       "    .dataframe tbody tr th:only-of-type {\n",
       "        vertical-align: middle;\n",
       "    }\n",
       "\n",
       "    .dataframe tbody tr th {\n",
       "        vertical-align: top;\n",
       "    }\n",
       "\n",
       "    .dataframe thead th {\n",
       "        text-align: right;\n",
       "    }\n",
       "</style>\n",
       "<table border=\"1\" class=\"dataframe\">\n",
       "  <thead>\n",
       "    <tr style=\"text-align: right;\">\n",
       "      <th></th>\n",
       "      <th>id</th>\n",
       "      <th>vendor_id</th>\n",
       "      <th>pickup_datetime</th>\n",
       "      <th>dropoff_datetime</th>\n",
       "      <th>passenger_count</th>\n",
       "      <th>pickup_longitude</th>\n",
       "      <th>pickup_latitude</th>\n",
       "      <th>dropoff_longitude</th>\n",
       "      <th>dropoff_latitude</th>\n",
       "      <th>store_and_fwd_flag</th>\n",
       "      <th>trip_duration</th>\n",
       "    </tr>\n",
       "  </thead>\n",
       "  <tbody>\n",
       "    <tr>\n",
       "      <th>0</th>\n",
       "      <td>id2875421</td>\n",
       "      <td>2</td>\n",
       "      <td>2016-03-14 17:24:55</td>\n",
       "      <td>2016-03-14 17:32:30</td>\n",
       "      <td>1</td>\n",
       "      <td>-73.982155</td>\n",
       "      <td>40.767937</td>\n",
       "      <td>-73.964630</td>\n",
       "      <td>40.765602</td>\n",
       "      <td>N</td>\n",
       "      <td>455</td>\n",
       "    </tr>\n",
       "    <tr>\n",
       "      <th>1</th>\n",
       "      <td>id2377394</td>\n",
       "      <td>1</td>\n",
       "      <td>2016-06-12 00:43:35</td>\n",
       "      <td>2016-06-12 00:54:38</td>\n",
       "      <td>1</td>\n",
       "      <td>-73.980415</td>\n",
       "      <td>40.738564</td>\n",
       "      <td>-73.999481</td>\n",
       "      <td>40.731152</td>\n",
       "      <td>N</td>\n",
       "      <td>663</td>\n",
       "    </tr>\n",
       "    <tr>\n",
       "      <th>2</th>\n",
       "      <td>id3858529</td>\n",
       "      <td>2</td>\n",
       "      <td>2016-01-19 11:35:24</td>\n",
       "      <td>2016-01-19 12:10:48</td>\n",
       "      <td>1</td>\n",
       "      <td>-73.979027</td>\n",
       "      <td>40.763939</td>\n",
       "      <td>-74.005333</td>\n",
       "      <td>40.710087</td>\n",
       "      <td>N</td>\n",
       "      <td>2124</td>\n",
       "    </tr>\n",
       "    <tr>\n",
       "      <th>3</th>\n",
       "      <td>id3504673</td>\n",
       "      <td>2</td>\n",
       "      <td>2016-04-06 19:32:31</td>\n",
       "      <td>2016-04-06 19:39:40</td>\n",
       "      <td>1</td>\n",
       "      <td>-74.010040</td>\n",
       "      <td>40.719971</td>\n",
       "      <td>-74.012268</td>\n",
       "      <td>40.706718</td>\n",
       "      <td>N</td>\n",
       "      <td>429</td>\n",
       "    </tr>\n",
       "    <tr>\n",
       "      <th>4</th>\n",
       "      <td>id2181028</td>\n",
       "      <td>2</td>\n",
       "      <td>2016-03-26 13:30:55</td>\n",
       "      <td>2016-03-26 13:38:10</td>\n",
       "      <td>1</td>\n",
       "      <td>-73.973053</td>\n",
       "      <td>40.793209</td>\n",
       "      <td>-73.972923</td>\n",
       "      <td>40.782520</td>\n",
       "      <td>N</td>\n",
       "      <td>435</td>\n",
       "    </tr>\n",
       "  </tbody>\n",
       "</table>\n",
       "</div>"
      ],
      "text/plain": [
       "          id  vendor_id      pickup_datetime     dropoff_datetime  \\\n",
       "0  id2875421          2  2016-03-14 17:24:55  2016-03-14 17:32:30   \n",
       "1  id2377394          1  2016-06-12 00:43:35  2016-06-12 00:54:38   \n",
       "2  id3858529          2  2016-01-19 11:35:24  2016-01-19 12:10:48   \n",
       "3  id3504673          2  2016-04-06 19:32:31  2016-04-06 19:39:40   \n",
       "4  id2181028          2  2016-03-26 13:30:55  2016-03-26 13:38:10   \n",
       "\n",
       "   passenger_count  pickup_longitude  pickup_latitude  dropoff_longitude  \\\n",
       "0                1        -73.982155        40.767937         -73.964630   \n",
       "1                1        -73.980415        40.738564         -73.999481   \n",
       "2                1        -73.979027        40.763939         -74.005333   \n",
       "3                1        -74.010040        40.719971         -74.012268   \n",
       "4                1        -73.973053        40.793209         -73.972923   \n",
       "\n",
       "   dropoff_latitude store_and_fwd_flag  trip_duration  \n",
       "0         40.765602                  N            455  \n",
       "1         40.731152                  N            663  \n",
       "2         40.710087                  N           2124  \n",
       "3         40.706718                  N            429  \n",
       "4         40.782520                  N            435  "
      ]
     },
     "execution_count": 61,
     "metadata": {},
     "output_type": "execute_result"
    }
   ],
   "source": [
    "data.head()"
   ]
  },
  {
   "cell_type": "code",
   "execution_count": 80,
   "metadata": {},
   "outputs": [
    {
     "data": {
      "text/plain": [
       "['pickup_datetime',\n",
       " 'dropoff_datetime',\n",
       " 'passenger_count',\n",
       " 'pickup_longitude',\n",
       " 'pickup_latitude',\n",
       " 'dropoff_longitude',\n",
       " 'dropoff_latitude',\n",
       " 'store_and_fwd_flag',\n",
       " 'trip_duration']"
      ]
     },
     "execution_count": 80,
     "metadata": {},
     "output_type": "execute_result"
    }
   ],
   "source": [
    "[col for col in data.columns if re.search( pattern,col) is None]"
   ]
  },
  {
   "cell_type": "code",
   "execution_count": 63,
   "metadata": {},
   "outputs": [],
   "source": [
    "y = data['trip_duration']"
   ]
  },
  {
   "cell_type": "code",
   "execution_count": 81,
   "metadata": {},
   "outputs": [],
   "source": [
    "pattern = re.compile(r'(id)|(_id)')\n",
    "\n",
    "x = data[[col for col in data.columns if re.search( pattern,col) is None]]"
   ]
  },
  {
   "cell_type": "code",
   "execution_count": 182,
   "metadata": {},
   "outputs": [
    {
     "data": {
      "text/html": [
       "<div>\n",
       "<style scoped>\n",
       "    .dataframe tbody tr th:only-of-type {\n",
       "        vertical-align: middle;\n",
       "    }\n",
       "\n",
       "    .dataframe tbody tr th {\n",
       "        vertical-align: top;\n",
       "    }\n",
       "\n",
       "    .dataframe thead th {\n",
       "        text-align: right;\n",
       "    }\n",
       "</style>\n",
       "<table border=\"1\" class=\"dataframe\">\n",
       "  <thead>\n",
       "    <tr style=\"text-align: right;\">\n",
       "      <th></th>\n",
       "      <th>passenger_count</th>\n",
       "      <th>pickup_longitude</th>\n",
       "      <th>pickup_latitude</th>\n",
       "      <th>dropoff_longitude</th>\n",
       "      <th>dropoff_latitude</th>\n",
       "      <th>store_and_fwd_flag_num</th>\n",
       "    </tr>\n",
       "  </thead>\n",
       "  <tbody>\n",
       "    <tr>\n",
       "      <th>0</th>\n",
       "      <td>1</td>\n",
       "      <td>-73.982155</td>\n",
       "      <td>40.767937</td>\n",
       "      <td>-73.964630</td>\n",
       "      <td>40.765602</td>\n",
       "      <td>0</td>\n",
       "    </tr>\n",
       "    <tr>\n",
       "      <th>1</th>\n",
       "      <td>1</td>\n",
       "      <td>-73.980415</td>\n",
       "      <td>40.738564</td>\n",
       "      <td>-73.999481</td>\n",
       "      <td>40.731152</td>\n",
       "      <td>0</td>\n",
       "    </tr>\n",
       "    <tr>\n",
       "      <th>2</th>\n",
       "      <td>1</td>\n",
       "      <td>-73.979027</td>\n",
       "      <td>40.763939</td>\n",
       "      <td>-74.005333</td>\n",
       "      <td>40.710087</td>\n",
       "      <td>0</td>\n",
       "    </tr>\n",
       "  </tbody>\n",
       "</table>\n",
       "</div>"
      ],
      "text/plain": [
       "   passenger_count  pickup_longitude  pickup_latitude  dropoff_longitude  \\\n",
       "0                1        -73.982155        40.767937         -73.964630   \n",
       "1                1        -73.980415        40.738564         -73.999481   \n",
       "2                1        -73.979027        40.763939         -74.005333   \n",
       "\n",
       "   dropoff_latitude  store_and_fwd_flag_num  \n",
       "0         40.765602                       0  \n",
       "1         40.731152                       0  \n",
       "2         40.710087                       0  "
      ]
     },
     "execution_count": 182,
     "metadata": {},
     "output_type": "execute_result"
    }
   ],
   "source": [
    "x.head(3)"
   ]
  },
  {
   "cell_type": "code",
   "execution_count": 84,
   "metadata": {},
   "outputs": [],
   "source": [
    "del x['trip_duration']"
   ]
  },
  {
   "cell_type": "code",
   "execution_count": 85,
   "metadata": {},
   "outputs": [
    {
     "data": {
      "text/html": [
       "<div>\n",
       "<style scoped>\n",
       "    .dataframe tbody tr th:only-of-type {\n",
       "        vertical-align: middle;\n",
       "    }\n",
       "\n",
       "    .dataframe tbody tr th {\n",
       "        vertical-align: top;\n",
       "    }\n",
       "\n",
       "    .dataframe thead th {\n",
       "        text-align: right;\n",
       "    }\n",
       "</style>\n",
       "<table border=\"1\" class=\"dataframe\">\n",
       "  <thead>\n",
       "    <tr style=\"text-align: right;\">\n",
       "      <th></th>\n",
       "      <th>pickup_datetime</th>\n",
       "      <th>dropoff_datetime</th>\n",
       "      <th>passenger_count</th>\n",
       "      <th>pickup_longitude</th>\n",
       "      <th>pickup_latitude</th>\n",
       "      <th>dropoff_longitude</th>\n",
       "      <th>dropoff_latitude</th>\n",
       "      <th>store_and_fwd_flag</th>\n",
       "    </tr>\n",
       "  </thead>\n",
       "  <tbody>\n",
       "    <tr>\n",
       "      <th>0</th>\n",
       "      <td>2016-03-14 17:24:55</td>\n",
       "      <td>2016-03-14 17:32:30</td>\n",
       "      <td>1</td>\n",
       "      <td>-73.982155</td>\n",
       "      <td>40.767937</td>\n",
       "      <td>-73.964630</td>\n",
       "      <td>40.765602</td>\n",
       "      <td>N</td>\n",
       "    </tr>\n",
       "    <tr>\n",
       "      <th>1</th>\n",
       "      <td>2016-06-12 00:43:35</td>\n",
       "      <td>2016-06-12 00:54:38</td>\n",
       "      <td>1</td>\n",
       "      <td>-73.980415</td>\n",
       "      <td>40.738564</td>\n",
       "      <td>-73.999481</td>\n",
       "      <td>40.731152</td>\n",
       "      <td>N</td>\n",
       "    </tr>\n",
       "    <tr>\n",
       "      <th>2</th>\n",
       "      <td>2016-01-19 11:35:24</td>\n",
       "      <td>2016-01-19 12:10:48</td>\n",
       "      <td>1</td>\n",
       "      <td>-73.979027</td>\n",
       "      <td>40.763939</td>\n",
       "      <td>-74.005333</td>\n",
       "      <td>40.710087</td>\n",
       "      <td>N</td>\n",
       "    </tr>\n",
       "  </tbody>\n",
       "</table>\n",
       "</div>"
      ],
      "text/plain": [
       "       pickup_datetime     dropoff_datetime  passenger_count  \\\n",
       "0  2016-03-14 17:24:55  2016-03-14 17:32:30                1   \n",
       "1  2016-06-12 00:43:35  2016-06-12 00:54:38                1   \n",
       "2  2016-01-19 11:35:24  2016-01-19 12:10:48                1   \n",
       "\n",
       "   pickup_longitude  pickup_latitude  dropoff_longitude  dropoff_latitude  \\\n",
       "0        -73.982155        40.767937         -73.964630         40.765602   \n",
       "1        -73.980415        40.738564         -73.999481         40.731152   \n",
       "2        -73.979027        40.763939         -74.005333         40.710087   \n",
       "\n",
       "  store_and_fwd_flag  \n",
       "0                  N  \n",
       "1                  N  \n",
       "2                  N  "
      ]
     },
     "execution_count": 85,
     "metadata": {},
     "output_type": "execute_result"
    }
   ],
   "source": [
    "x.head(3)"
   ]
  },
  {
   "cell_type": "code",
   "execution_count": 101,
   "metadata": {},
   "outputs": [
    {
     "data": {
      "text/plain": [
       "array(['N', 'Y'], dtype=object)"
      ]
     },
     "execution_count": 101,
     "metadata": {},
     "output_type": "execute_result"
    }
   ],
   "source": [
    "x.store_and_fwd_flag.unique()"
   ]
  },
  {
   "cell_type": "code",
   "execution_count": 102,
   "metadata": {},
   "outputs": [],
   "source": [
    "x['store_and_fwd_flag_num'] = x.store_and_fwd_flag.apply(lambda x: 0 if 'N' else 1)"
   ]
  },
  {
   "cell_type": "code",
   "execution_count": 104,
   "metadata": {},
   "outputs": [],
   "source": [
    "del x['store_and_fwd_flag']"
   ]
  },
  {
   "cell_type": "code",
   "execution_count": 105,
   "metadata": {},
   "outputs": [],
   "source": [
    "del x['pickup_datetime']\n",
    "\n",
    "del x['dropoff_datetime']"
   ]
  },
  {
   "cell_type": "code",
   "execution_count": 87,
   "metadata": {},
   "outputs": [],
   "source": [
    "y = np.log(y + 1)"
   ]
  },
  {
   "cell_type": "code",
   "execution_count": 93,
   "metadata": {},
   "outputs": [
    {
     "data": {
      "text/plain": [
       "(1458644, 8)"
      ]
     },
     "execution_count": 93,
     "metadata": {},
     "output_type": "execute_result"
    }
   ],
   "source": [
    "x.shape"
   ]
  },
  {
   "cell_type": "code",
   "execution_count": 94,
   "metadata": {},
   "outputs": [
    {
     "data": {
      "text/plain": [
       "(1458644,)"
      ]
     },
     "execution_count": 94,
     "metadata": {},
     "output_type": "execute_result"
    }
   ],
   "source": [
    "y.shape"
   ]
  },
  {
   "cell_type": "code",
   "execution_count": 173,
   "metadata": {},
   "outputs": [],
   "source": [
    "X_train, X_test, y_train, y_test = train_test_split(x, y, test_size=0.8,  random_state=0)"
   ]
  },
  {
   "cell_type": "markdown",
   "metadata": {},
   "source": [
    "# ** Задание 5 (3 балла)**. Обучите и провалидируйте модели на данных из предыдущего пункта, сравните качество между методами по метрикам MSE и $R^2$. Исследуйте влияние параметров `max_iter` и `eta` (`max_iter`, `alpha` и `eta` для Momentum) на процесс оптимизации. Согласуется ли оно с вашими ожиданиями?"
   ]
  },
  {
   "cell_type": "code",
   "execution_count": 412,
   "metadata": {},
   "outputs": [],
   "source": [
    "def plot_loss(loss, title, to_plot=None):\n",
    "    if to_plot is None:\n",
    "        plt.plot(range(len(loss['loss'])), loss['loss'],\n",
    "                 label=f'{title}; alpha: {loss[\"alpha\"]}; eta: {loss[\"eta\"]}, rmse: {loss[\"rmse\"]}')\n",
    "    else:\n",
    "        title = f'{title} '\n",
    "        for pl in to_plot.split(' '):\n",
    "            title += f'{pl}: {loss[pl]}'\n",
    "        plt.plot(range(len(loss['loss'])), loss['loss'],\n",
    "                 label=title)"
   ]
  },
  {
   "cell_type": "code",
   "execution_count": 415,
   "metadata": {},
   "outputs": [],
   "source": [
    "def train_and_get_res(X_train, y_train, X_test, y_test, gd_type, alpha=1e-3,\n",
    "                      eta=1e-6,  mod = None, max_iter=1000, batch_size=1):\n",
    "    linreg = LinearReg(mod=mod, alpha=alpha, eta=eta, batch_size=batch_size, max_iter=max_iter)\n",
    "    linreg.fit(X_train, y_train)\n",
    "    y_pred = linreg.predict(X_test)\n",
    "    rmse = rmse_score(y_pred, y_test)\n",
    "    r2 = r2_score(y_pred, y_test)\n",
    "    print(f'Alpha {alpha};\\nEta {eta}')\n",
    "    print(f'RMSE {rmse}')    \n",
    "    print(f'R2 {r2_score(y_pred, y_test)}')\n",
    "    return {'loss' : linreg.loss_history, 'alpha' : alpha, 'eta' : eta, \n",
    "            'rmse' : rmse, r2 : r2,'batch_size' : batch_size, 'max_iter': max_iter }"
   ]
  },
  {
   "cell_type": "code",
   "execution_count": 174,
   "metadata": {},
   "outputs": [],
   "source": [
    "def mse_score(y_true, y_pred):\n",
    "    return np.power(np.sum(y_pred - y_true), 2) / y_true.shape[0]"
   ]
  },
  {
   "cell_type": "code",
   "execution_count": 175,
   "metadata": {},
   "outputs": [],
   "source": [
    "def rmse_score(y_true, y_pred):\n",
    "    return np.sqrt(np.power(np.sum(y_pred - y_true), 2) / y_true.shape[0])"
   ]
  },
  {
   "cell_type": "code",
   "execution_count": 176,
   "metadata": {},
   "outputs": [],
   "source": [
    "def r2_score(y_true, y_pred):\n",
    "    ss_tot = np.power(np.sum(y_true - np.mean(y_true)),2)\n",
    "    ss_res = np.power(np.sum(y_pred - y_true), 2)\n",
    "    return 1 - (ss_res/ss_tot)"
   ]
  },
  {
   "cell_type": "markdown",
   "metadata": {},
   "source": [
    "### FGD"
   ]
  },
  {
   "cell_type": "code",
   "execution_count": 397,
   "metadata": {},
   "outputs": [
    {
     "data": {
      "application/vnd.jupyter.widget-view+json": {
       "model_id": "c4079024b9e34d12b65a6e4a0f96272f",
       "version_major": 2,
       "version_minor": 0
      },
      "text/plain": [
       "HBox(children=(IntProgress(value=0, max=1000), HTML(value='')))"
      ]
     },
     "metadata": {},
     "output_type": "display_data"
    },
    {
     "name": "stdout",
     "output_type": "stream",
     "text": [
      "Alpha 0.001;\n",
      "Eta 1e-06\n",
      "RMSE 32.024829843924785\n",
      "R2 -7.029625492485125e+25\n",
      "\n"
     ]
    },
    {
     "data": {
      "application/vnd.jupyter.widget-view+json": {
       "model_id": "2e8c243c5ede4ac3b85b43a68c11e513",
       "version_major": 2,
       "version_minor": 0
      },
      "text/plain": [
       "HBox(children=(IntProgress(value=0, max=1000), HTML(value='')))"
      ]
     },
     "metadata": {},
     "output_type": "display_data"
    },
    {
     "name": "stdout",
     "output_type": "stream",
     "text": [
      "\n",
      "Alpha 0.001;\n",
      "Eta 1e-09\n",
      "RMSE 188323.67677037124\n",
      "R2 -4.341572880734515e+31\n"
     ]
    },
    {
     "data": {
      "application/vnd.jupyter.widget-view+json": {
       "model_id": "8632af72620447f59b04a456b1a8047c",
       "version_major": 2,
       "version_minor": 0
      },
      "text/plain": [
       "HBox(children=(IntProgress(value=0, max=1000), HTML(value='')))"
      ]
     },
     "metadata": {},
     "output_type": "display_data"
    },
    {
     "name": "stdout",
     "output_type": "stream",
     "text": [
      "\n",
      "Alpha 0.001;\n",
      "Eta 1e-10\n",
      "RMSE 142768.47874808343\n",
      "R2 -1.8601294415773685e+31\n"
     ]
    },
    {
     "data": {
      "application/vnd.jupyter.widget-view+json": {
       "model_id": "2e9d0960e3d94e489467b55444703fed",
       "version_major": 2,
       "version_minor": 0
      },
      "text/plain": [
       "HBox(children=(IntProgress(value=0, max=1000), HTML(value='')))"
      ]
     },
     "metadata": {},
     "output_type": "display_data"
    },
    {
     "name": "stdout",
     "output_type": "stream",
     "text": [
      "\n",
      "Alpha 0.001;\n",
      "Eta 1e-07\n",
      "RMSE 11653.966209095059\n",
      "R2 -1.768811311986831e+31\n"
     ]
    },
    {
     "data": {
      "application/vnd.jupyter.widget-view+json": {
       "model_id": "386476b3ee344bdebee7d2fedcbb6f47",
       "version_major": 2,
       "version_minor": 0
      },
      "text/plain": [
       "HBox(children=(IntProgress(value=0, max=1000), HTML(value='')))"
      ]
     },
     "metadata": {},
     "output_type": "display_data"
    },
    {
     "name": "stdout",
     "output_type": "stream",
     "text": [
      "\n",
      "Alpha 0.001;\n",
      "Eta 1e-08\n",
      "RMSE 94034.44157106262\n",
      "R2 -5.275461115030199e+32\n"
     ]
    }
   ],
   "source": [
    "loss_full_eta = train_and_get_res(X_train, y_train, X_test, \n",
    "                                      y_test, gd_type='full',\n",
    "                                       eta=1e-6)\n",
    "loss_full_eta_9 = train_and_get_res(X_train, y_train, X_test, \n",
    "                                      y_test, gd_type='full',\n",
    "                                       eta=1e-9)\n",
    "loss_full_eta_10 = train_and_get_res(X_train, y_train, X_test, \n",
    "                                      y_test, gd_type='full',\n",
    "                                       eta=1e-10)\n",
    "loss_full_eta_7 = train_and_get_res(X_train, y_train, X_test, \n",
    "                                      y_test, gd_type='full',\n",
    "                                       eta=1e-7)\n",
    "loss_full_eta_8 = train_and_get_res(X_train, y_train, X_test, \n",
    "                                      y_test, gd_type='full',\n",
    "                                       eta=1e-8)"
   ]
  },
  {
   "cell_type": "code",
   "execution_count": 400,
   "metadata": {},
   "outputs": [
    {
     "data": {
      "image/png": "[encoded data removed]",
      "text/plain": [
       "<Figure size 1080x1080 with 1 Axes>"
      ]
     },
     "metadata": {
      "needs_background": "light"
     },
     "output_type": "display_data"
    }
   ],
   "source": [
    "plt.figure(figsize=(15, 15))\n",
    "plot_loss(loss_full_eta, 'FGD')\n",
    "plot_loss(loss_full_eta_9, 'FGD')\n",
    "plot_loss(loss_full_eta_10, 'FGD')\n",
    "plot_loss(loss_full_eta_7, 'FGD')\n",
    "plot_loss(loss_full_eta_8, 'FGD')\n",
    "\n",
    "plt.title('Value of Gradient over iterations')\n",
    "plt.xlim((-1, 1000))\n",
    "plt.legend()\n",
    "plt.xlabel('Iter num')\n",
    "plt.ylabel(r'$\\nabla Q$($w$)')\n",
    "plt.grid()\n",
    "plt.show()"
   ]
  },
  {
   "cell_type": "code",
   "execution_count": 399,
   "metadata": {},
   "outputs": [
    {
     "data": {
      "application/vnd.jupyter.widget-view+json": {
       "model_id": "da9a18ccbd424184a90a35b064bcc853",
       "version_major": 2,
       "version_minor": 0
      },
      "text/plain": [
       "HBox(children=(IntProgress(value=0, max=500), HTML(value='')))"
      ]
     },
     "metadata": {},
     "output_type": "display_data"
    },
    {
     "name": "stdout",
     "output_type": "stream",
     "text": [
      "\n",
      "Alpha 0.001;\n",
      "Eta 1e-06\n",
      "RMSE 2.8463043700246393\n",
      "R2 -1.5307225712554404e+24\n"
     ]
    },
    {
     "data": {
      "application/vnd.jupyter.widget-view+json": {
       "model_id": "e84dc5e29b924562aa3181ed735c23b3",
       "version_major": 2,
       "version_minor": 0
      },
      "text/plain": [
       "HBox(children=(IntProgress(value=0, max=1500), HTML(value='')))"
      ]
     },
     "metadata": {},
     "output_type": "display_data"
    },
    {
     "name": "stdout",
     "output_type": "stream",
     "text": [
      "\n",
      "Alpha 0.001;\n",
      "Eta 1e-06\n",
      "RMSE 6.823251110465257\n",
      "R2 -1.640105777268099e+26\n"
     ]
    },
    {
     "data": {
      "application/vnd.jupyter.widget-view+json": {
       "model_id": "eb9b29e9bb264f3b985be249c920008f",
       "version_major": 2,
       "version_minor": 0
      },
      "text/plain": [
       "HBox(children=(IntProgress(value=0, max=2000), HTML(value='')))"
      ]
     },
     "metadata": {},
     "output_type": "display_data"
    },
    {
     "name": "stdout",
     "output_type": "stream",
     "text": [
      "\n",
      "Alpha 0.001;\n",
      "Eta 1e-06\n",
      "RMSE 89.1677048982237\n",
      "R2 -1.7657729843251318e+27\n"
     ]
    },
    {
     "data": {
      "application/vnd.jupyter.widget-view+json": {
       "model_id": "40554d8645544c70aff15b52c5ab557f",
       "version_major": 2,
       "version_minor": 0
      },
      "text/plain": [
       "HBox(children=(IntProgress(value=0, max=2500), HTML(value='')))"
      ]
     },
     "metadata": {},
     "output_type": "display_data"
    },
    {
     "name": "stdout",
     "output_type": "stream",
     "text": [
      "Alpha 0.001;\n",
      "Eta 1e-06\n",
      "RMSE 29.514031278575054\n",
      "R2 -1.5840744944404127e+27\n"
     ]
    },
    {
     "data": {
      "application/vnd.jupyter.widget-view+json": {
       "model_id": "e29031a0ccdb4da8af007d49999f672c",
       "version_major": 2,
       "version_minor": 0
      },
      "text/plain": [
       "HBox(children=(IntProgress(value=0), HTML(value='')))"
      ]
     },
     "metadata": {},
     "output_type": "display_data"
    },
    {
     "name": "stdout",
     "output_type": "stream",
     "text": [
      "\n",
      "Alpha 0.001;\n",
      "Eta 1e-06\n",
      "RMSE 6487.5657365073375\n",
      "R2 -8.674497136103346e+32\n"
     ]
    }
   ],
   "source": [
    "loss_full_iter500 = train_and_get_res(X_train, y_train, X_test, \n",
    "                                      y_test, gd_type='full',max_iter = 500,\n",
    "                                       eta=1e-6)\n",
    "loss_full_iter1500 = train_and_get_res(X_train, y_train, X_test, \n",
    "                                      y_test, gd_type='full',max_iter = 1500,\n",
    "                                       eta=1e-6)\n",
    "loss_full_iter2000 = train_and_get_res(X_train, y_train, X_test, \n",
    "                                      y_test, gd_type='full',max_iter = 2000,\n",
    "                                       eta=1e-6)\n",
    "loss_full_iter2500 = train_and_get_res(X_train, y_train, X_test, \n",
    "                                      y_test, gd_type='full',max_iter = 2500,\n",
    "                                       eta=1e-6)\n",
    "loss_full_iter100 = train_and_get_res(X_train, y_train, X_test, \n",
    "                                      y_test, gd_type='full',max_iter = 100,\n",
    "                                       eta=1e-6)"
   ]
  },
  {
   "cell_type": "code",
   "execution_count": 401,
   "metadata": {},
   "outputs": [
    {
     "data": {
      "image/png": "[encoded data removed]",
      "text/plain": [
       "<Figure size 1080x1080 with 1 Axes>"
      ]
     },
     "metadata": {
      "needs_background": "light"
     },
     "output_type": "display_data"
    }
   ],
   "source": [
    "plt.figure(figsize=(15, 15))\n",
    "plot_loss(loss_full_iter500, 'FGD')\n",
    "plot_loss(loss_full_iter1500, 'FGD')\n",
    "plot_loss(loss_full_iter2000, 'FGD')\n",
    "plot_loss(loss_full_iter2500, 'FGD')\n",
    "plot_loss(loss_full_iter100, 'FGD')\n",
    "\n",
    "plt.title('Value of Gradient over iterations')\n",
    "plt.xlim((-1, 1000))\n",
    "plt.legend()\n",
    "plt.xlabel('Iter num')\n",
    "plt.ylabel(r'$\\nabla Q$($w$)')\n",
    "plt.grid()\n",
    "plt.show()      "
   ]
  },
  {
   "cell_type": "code",
   "execution_count": null,
   "metadata": {},
   "outputs": [],
   "source": []
  },
  {
   "cell_type": "markdown",
   "metadata": {},
   "source": [
    "Маленькие значения величины шага в данном случае замедляют сходимость, однако, при большом значении величины шага алгоритм расходится."
   ]
  },
  {
   "cell_type": "code",
   "execution_count": null,
   "metadata": {},
   "outputs": [],
   "source": []
  },
  {
   "cell_type": "markdown",
   "metadata": {},
   "source": [
    "### SGD"
   ]
  },
  {
   "cell_type": "markdown",
   "metadata": {},
   "source": [
    "За итерацию обрабатывается 1 объект:"
   ]
  },
  {
   "cell_type": "code",
   "execution_count": 418,
   "metadata": {},
   "outputs": [
    {
     "data": {
      "application/vnd.jupyter.widget-view+json": {
       "model_id": "038d539af4044d29b820e6aa49931d9a",
       "version_major": 2,
       "version_minor": 0
      },
      "text/plain": [
       "HBox(children=(IntProgress(value=0, max=1000), HTML(value='')))"
      ]
     },
     "metadata": {},
     "output_type": "display_data"
    },
    {
     "name": "stdout",
     "output_type": "stream",
     "text": [
      "Alpha 0.001;\n",
      "Eta 1e-06\n",
      "RMSE 65.44329263931274\n",
      "R2 -9.326143993593363e+27\n"
     ]
    },
    {
     "data": {
      "application/vnd.jupyter.widget-view+json": {
       "model_id": "2da50caa655148309d71d92de445299f",
       "version_major": 2,
       "version_minor": 0
      },
      "text/plain": [
       "HBox(children=(IntProgress(value=0, max=1000), HTML(value='')))"
      ]
     },
     "metadata": {},
     "output_type": "display_data"
    },
    {
     "name": "stdout",
     "output_type": "stream",
     "text": [
      "Alpha 0.001;\n",
      "Eta 1e-06\n",
      "RMSE 19.556434895082223\n",
      "R2 -7.056575482919834e+25\n"
     ]
    },
    {
     "data": {
      "application/vnd.jupyter.widget-view+json": {
       "model_id": "8f1941bb11d047fa83823e69c0ff2b09",
       "version_major": 2,
       "version_minor": 0
      },
      "text/plain": [
       "HBox(children=(IntProgress(value=0, max=1000), HTML(value='')))"
      ]
     },
     "metadata": {},
     "output_type": "display_data"
    },
    {
     "name": "stdout",
     "output_type": "stream",
     "text": [
      "\n",
      "Alpha 0.001;\n",
      "Eta 1e-06\n",
      "RMSE 15.395332475048015\n",
      "R2 -1.0553776346984586e+26\n"
     ]
    },
    {
     "data": {
      "application/vnd.jupyter.widget-view+json": {
       "model_id": "7a12818aba6b4f949808048839148f9e",
       "version_major": 2,
       "version_minor": 0
      },
      "text/plain": [
       "HBox(children=(IntProgress(value=0, max=1000), HTML(value='')))"
      ]
     },
     "metadata": {},
     "output_type": "display_data"
    },
    {
     "name": "stdout",
     "output_type": "stream",
     "text": [
      "\n",
      "Alpha 0.001;\n",
      "Eta 1e-06\n",
      "RMSE 0.16998537055309873\n",
      "R2 -4.083677097986219e+21\n"
     ]
    },
    {
     "data": {
      "application/vnd.jupyter.widget-view+json": {
       "model_id": "69c2542d1e2f4f708b95c051ef3470ae",
       "version_major": 2,
       "version_minor": 0
      },
      "text/plain": [
       "HBox(children=(IntProgress(value=0, max=1000), HTML(value='')))"
      ]
     },
     "metadata": {},
     "output_type": "display_data"
    },
    {
     "name": "stdout",
     "output_type": "stream",
     "text": [
      "Alpha 0.001;\n",
      "Eta 1e-06\n",
      "RMSE 213.33648019329223\n",
      "R2 -2.2071502936424737e+29\n"
     ]
    }
   ],
   "source": [
    "loss_full_b500 = train_and_get_res(X_train, y_train, X_test, \n",
    "                                      y_test, gd_type='stochastis',batch_size = 500,\n",
    "                                       eta=1e-6)\n",
    "loss_full_b100 = train_and_get_res(X_train, y_train, X_test, \n",
    "                                      y_test, gd_type='stochastis',batch_size = 100,\n",
    "                                       eta=1e-6)\n",
    "loss_full_b1000 = train_and_get_res(X_train, y_train, X_test, \n",
    "                                      y_test, gd_type='stochastis',batch_size = 1000,\n",
    "                                       eta=1e-6)\n",
    "loss_full_b50 = train_and_get_res(X_train, y_train, X_test, \n",
    "                                      y_test, gd_type='stochastis',batch_size = 50,\n",
    "                                       eta=1e-6)\n",
    "loss_full_b25 = train_and_get_res(X_train, y_train, X_test, \n",
    "                                      y_test, gd_type='stochastis',batch_size = 25,\n",
    "                                       eta=1e-6)"
   ]
  },
  {
   "cell_type": "code",
   "execution_count": 422,
   "metadata": {},
   "outputs": [
    {
     "data": {
      "image/png": "[encoded data removed]",
      "text/plain": [
       "<Figure size 1080x1080 with 1 Axes>"
      ]
     },
     "metadata": {
      "needs_background": "light"
     },
     "output_type": "display_data"
    }
   ],
   "source": [
    "plt.figure(figsize=(15, 15))\n",
    "plot_loss(loss_full_b500, 'FGD', to_plot='batch_size rmse')\n",
    "plot_loss(loss_full_b100, 'FGD', to_plot='batch_size rmse')\n",
    "plot_loss(loss_full_b1000, 'FGD', to_plot='batch_size rmse')\n",
    "plot_loss(loss_full_b50, 'FGD', to_plot='batch_size rmse')\n",
    "plot_loss(loss_full_b25, 'FGD', to_plot='batch_size rmse')\n",
    "\n",
    "plt.title('Value of Gradient over iterations')\n",
    "plt.xlim((-1, 1000))\n",
    "plt.ylim((-1, 100))\n",
    "plt.legend()\n",
    "plt.xlabel('Iter num')\n",
    "plt.ylabel(r'$\\nabla Q$($w$)')\n",
    "plt.grid()\n",
    "plt.show()"
   ]
  },
  {
   "cell_type": "code",
   "execution_count": null,
   "metadata": {},
   "outputs": [],
   "source": []
  },
  {
   "cell_type": "code",
   "execution_count": null,
   "metadata": {},
   "outputs": [],
   "source": []
  },
  {
   "cell_type": "code",
   "execution_count": null,
   "metadata": {},
   "outputs": [],
   "source": []
  },
  {
   "cell_type": "code",
   "execution_count": null,
   "metadata": {},
   "outputs": [],
   "source": []
  },
  {
   "cell_type": "markdown",
   "metadata": {},
   "source": [
    "### SGD MOMENTUM"
   ]
  },
  {
   "cell_type": "code",
   "execution_count": null,
   "metadata": {},
   "outputs": [],
   "source": [
    "alpha=1e-3, eta=1e-6"
   ]
  },
  {
   "cell_type": "code",
   "execution_count": 373,
   "metadata": {},
   "outputs": [
    {
     "data": {
      "application/vnd.jupyter.widget-view+json": {
       "model_id": "89d797125497468682466ff784a10a95",
       "version_major": 2,
       "version_minor": 0
      },
      "text/plain": [
       "HBox(children=(IntProgress(value=0, max=1000), HTML(value='')))"
      ]
     },
     "metadata": {},
     "output_type": "display_data"
    },
    {
     "name": "stdout",
     "output_type": "stream",
     "text": [
      "Alpha 0.001;\n",
      "Eta 1e-06\n",
      "RMSE 20.077989392275054\n",
      "R2 -3.509488467144749e+25\n"
     ]
    }
   ],
   "source": [
    "loss_simple = train_and_get_res(X_train, y_train, X_test, y_test, gd_type='stochastic', mod='momentum')"
   ]
  },
  {
   "cell_type": "code",
   "execution_count": 374,
   "metadata": {},
   "outputs": [
    {
     "data": {
      "application/vnd.jupyter.widget-view+json": {
       "model_id": "9aab2f9e2a094cfa9f98248a6dc26951",
       "version_major": 2,
       "version_minor": 0
      },
      "text/plain": [
       "HBox(children=(IntProgress(value=0, max=1000), HTML(value='')))"
      ]
     },
     "metadata": {},
     "output_type": "display_data"
    },
    {
     "name": "stdout",
     "output_type": "stream",
     "text": [
      "Alpha 0.01;\n",
      "Eta 1e-06\n",
      "RMSE 231.47115649821774\n",
      "R2 -1.3757522040179244e+29\n"
     ]
    }
   ],
   "source": [
    "loss_simple_al_2 = train_and_get_res(X_train, y_train, X_test, \n",
    "                                      y_test, gd_type='stochastic', mod='momentum',\n",
    "                                      alpha=1e-2, eta=1e-6)"
   ]
  },
  {
   "cell_type": "code",
   "execution_count": 375,
   "metadata": {},
   "outputs": [
    {
     "data": {
      "application/vnd.jupyter.widget-view+json": {
       "model_id": "89ec83a8176d484daf7ebe4b52695092",
       "version_major": 2,
       "version_minor": 0
      },
      "text/plain": [
       "HBox(children=(IntProgress(value=0, max=1000), HTML(value='')))"
      ]
     },
     "metadata": {},
     "output_type": "display_data"
    },
    {
     "name": "stdout",
     "output_type": "stream",
     "text": [
      "\n",
      "\n",
      "Alpha 0.1;\n",
      "Eta 1e-06\n",
      "RMSE 117.18310333522776\n",
      "R2 -4.130500941476249e+27\n"
     ]
    }
   ],
   "source": [
    "loss_simple_al_1 = train_and_get_res(X_train, y_train, X_test, \n",
    "                                      y_test, gd_type='stochastic', mod='momentum',\n",
    "                                      alpha=1e-1, eta=1e-6)"
   ]
  },
  {
   "cell_type": "code",
   "execution_count": 376,
   "metadata": {},
   "outputs": [
    {
     "data": {
      "application/vnd.jupyter.widget-view+json": {
       "model_id": "e23fdfa5c1fb43a69242894b8ba0dabf",
       "version_major": 2,
       "version_minor": 0
      },
      "text/plain": [
       "HBox(children=(IntProgress(value=0, max=1000), HTML(value='')))"
      ]
     },
     "metadata": {},
     "output_type": "display_data"
    },
    {
     "name": "stdout",
     "output_type": "stream",
     "text": [
      "Alpha 0.0001;\n",
      "Eta 1e-06\n",
      "RMSE 1.120575656360608\n",
      "R2 -2.2100389608241413e+23\n"
     ]
    }
   ],
   "source": [
    "loss_simple_al_4 = train_and_get_res(X_train, y_train, X_test, \n",
    "                                      y_test, gd_type='stochastic', mod='momentum',\n",
    "                                      alpha=1e-4, eta=1e-6)"
   ]
  },
  {
   "cell_type": "code",
   "execution_count": 388,
   "metadata": {},
   "outputs": [
    {
     "data": {
      "image/png": "[encoded data removed]",
      "text/plain": [
       "<Figure size 1080x1080 with 1 Axes>"
      ]
     },
     "metadata": {
      "needs_background": "light"
     },
     "output_type": "display_data"
    }
   ],
   "source": [
    "plt.figure(figsize=(15, 15))\n",
    "plot_loss(loss_simple, 'SGD Momentum, alpha: 0.001')\n",
    "plot_loss(loss_simple_al_2, 'SGD Momentum, alpha: 0.01')\n",
    "plot_loss(loss_simple_al_1, 'SGD Momentum, alpha: 0.1')\n",
    "plot_loss(loss_simple_al_4, 'SGD Momentum, alpha: 0.0001')\n",
    "\n",
    "plt.title('Value of Gradient over iterations')\n",
    "plt.xlim((-1, 1000))\n",
    "plt.legend()\n",
    "plt.xlabel('Iter num')\n",
    "plt.ylabel(r'$\\nabla Q$($w$)')\n",
    "plt.grid()\n",
    "plt.show()"
   ]
  },
  {
   "cell_type": "code",
   "execution_count": 390,
   "metadata": {},
   "outputs": [
    {
     "data": {
      "application/vnd.jupyter.widget-view+json": {
       "model_id": "d379ae7c79eb46d3ad667966dca819ff",
       "version_major": 2,
       "version_minor": 0
      },
      "text/plain": [
       "HBox(children=(IntProgress(value=0, max=1000), HTML(value='')))"
      ]
     },
     "metadata": {},
     "output_type": "display_data"
    },
    {
     "name": "stdout",
     "output_type": "stream",
     "text": [
      "\n",
      "Alpha 0.0001;\n",
      "Eta 1e-06\n",
      "RMSE 23.097045158976343\n",
      "R2 -3.1211885918059375e+27\n"
     ]
    },
    {
     "data": {
      "application/vnd.jupyter.widget-view+json": {
       "model_id": "5027a8255bd940ff9be92c14cb58963c",
       "version_major": 2,
       "version_minor": 0
      },
      "text/plain": [
       "HBox(children=(IntProgress(value=0, max=1000), HTML(value='')))"
      ]
     },
     "metadata": {},
     "output_type": "display_data"
    },
    {
     "name": "stdout",
     "output_type": "stream",
     "text": [
      "Alpha 0.0001;\n",
      "Eta 1e-05\n",
      "RMSE 48.200622909971514\n",
      "R2 -6.109791927780693e+26\n"
     ]
    },
    {
     "data": {
      "application/vnd.jupyter.widget-view+json": {
       "model_id": "26d51d17f81f4e82a55fa77884d7c526",
       "version_major": 2,
       "version_minor": 0
      },
      "text/plain": [
       "HBox(children=(IntProgress(value=0, max=1000), HTML(value='')))"
      ]
     },
     "metadata": {},
     "output_type": "display_data"
    },
    {
     "name": "stdout",
     "output_type": "stream",
     "text": [
      "\n",
      "Alpha 0.0001;\n",
      "Eta 0.0001\n",
      "RMSE inf\n",
      "R2 nan\n"
     ]
    },
    {
     "data": {
      "application/vnd.jupyter.widget-view+json": {
       "model_id": "7610cb041fa44619a12073d5b6fc757e",
       "version_major": 2,
       "version_minor": 0
      },
      "text/plain": [
       "HBox(children=(IntProgress(value=0, max=1000), HTML(value='')))"
      ]
     },
     "metadata": {},
     "output_type": "display_data"
    },
    {
     "name": "stdout",
     "output_type": "stream",
     "text": [
      "\n",
      "Alpha 0.0001;\n",
      "Eta 1e-07\n",
      "RMSE 5593.172204565099\n",
      "R2 -2.2944914956744728e+30\n"
     ]
    },
    {
     "data": {
      "application/vnd.jupyter.widget-view+json": {
       "model_id": "63371ef3fb1e46ecaf5d39a7a32e5240",
       "version_major": 2,
       "version_minor": 0
      },
      "text/plain": [
       "HBox(children=(IntProgress(value=0, max=1000), HTML(value='')))"
      ]
     },
     "metadata": {},
     "output_type": "display_data"
    },
    {
     "name": "stdout",
     "output_type": "stream",
     "text": [
      "\n",
      "Alpha 0.0001;\n",
      "Eta 1e-08\n",
      "RMSE 9711.756744242932\n",
      "R2 -5.1266099926788714e+29\n"
     ]
    }
   ],
   "source": [
    "loss_simple_eta = train_and_get_res(X_train, y_train, X_test, \n",
    "                                      y_test, gd_type='stochastic', mod='momentum',\n",
    "                                      alpha=1e-4, eta=1e-6)\n",
    "loss_simple_eta_5 = train_and_get_res(X_train, y_train, X_test, \n",
    "                                      y_test, gd_type='stochastic', mod='momentum',\n",
    "                                      alpha=1e-4, eta=1e-5)\n",
    "loss_simple_eta_4 = train_and_get_res(X_train, y_train, X_test, \n",
    "                                      y_test, gd_type='stochastic', mod='momentum',\n",
    "                                      alpha=1e-4, eta=1e-4)\n",
    "loss_simple_eta_7 = train_and_get_res(X_train, y_train, X_test, \n",
    "                                      y_test, gd_type='stochastic', mod='momentum',\n",
    "                                      alpha=1e-4, eta=1e-7)\n",
    "loss_simple_eta_8 = train_and_get_res(X_train, y_train, X_test, \n",
    "                                      y_test, gd_type='stochastic', mod='momentum',\n",
    "                                      alpha=1e-4, eta=1e-8)"
   ]
  },
  {
   "cell_type": "code",
   "execution_count": 394,
   "metadata": {},
   "outputs": [
    {
     "data": {
      "image/png": "[encoded data removed]",
      "text/plain": [
       "<Figure size 1080x1080 with 1 Axes>"
      ]
     },
     "metadata": {
      "needs_background": "light"
     },
     "output_type": "display_data"
    }
   ],
   "source": [
    "plt.figure(figsize=(15, 15))\n",
    "plot_loss(loss_simple_eta, title='SGD Momentum')\n",
    "#plot_loss(loss_simple_eta_5, title='SGD Momentum')\n",
    "#plot_loss(loss_simple_eta_4, title='SGD Momentum')\n",
    "plot_loss(loss_simple_eta_7, title='SGD Momentum')\n",
    "plot_loss(loss_simple_eta_8, title='SGD Momentum')\n",
    "\n",
    "plt.title('Value of Gradient over iterations')\n",
    "plt.xlim((-1, 1000))\n",
    "plt.legend()\n",
    "plt.xlabel('Iter num')\n",
    "plt.ylabel(r'$\\nabla Q$($w$)')\n",
    "plt.grid()\n",
    "plt.show()"
   ]
  },
  {
   "cell_type": "code",
   "execution_count": null,
   "metadata": {},
   "outputs": [],
   "source": []
  },
  {
   "cell_type": "code",
   "execution_count": null,
   "metadata": {},
   "outputs": [],
   "source": []
  },
  {
   "cell_type": "code",
   "execution_count": null,
   "metadata": {},
   "outputs": [],
   "source": []
  },
  {
   "cell_type": "code",
   "execution_count": null,
   "metadata": {
    "collapsed": true
   },
   "outputs": [],
   "source": [
    "#╰( ͡° ͜ʖ ͡° )つ──☆*:・ﾟ"
   ]
  },
  {
   "cell_type": "markdown",
   "metadata": {},
   "source": [
    "** Задание 6 (2 балла)**. Постройте графики (на одной и той же картинке) зависимости величины функции потерь от номера итерации для полного, стохастического градиентного спусков, а также для полного градиентного спуска с методом Momentum. Сделайте выводы о скорости сходимости различных модификаций градиентного спуска.\n",
    "\n",
    "Не забывайте о том, что должны получиться *красивые* графики!"
   ]
  },
  {
   "cell_type": "code",
   "execution_count": null,
   "metadata": {
    "collapsed": true
   },
   "outputs": [],
   "source": [
    "plt.figure(figsize=(15, 15))\n",
    "plot_loss(loss_simple_eta, title='SGD Momentum')\n",
    "plot_loss(loss_simple_eta_7, title='FGD')\n",
    "plot_loss(loss_simple_eta_8, title='SGD')"
   ]
  },
  {
   "cell_type": "markdown",
   "metadata": {},
   "source": [
    "### Бонус "
   ]
  },
  {
   "cell_type": "markdown",
   "metadata": {},
   "source": [
    "** Задание 7 (2 балла)**. Реализуйте линейную регрессию с функцией потерь MSE, обучаемую с помощью метода\n",
    "[Adam](https://arxiv.org/pdf/1412.6980.pdf) - добавьте при необходимости параметры в класс модели, повторите пункты 5 и 6 и сравните результаты. "
   ]
  },
  {
   "cell_type": "markdown",
   "metadata": {},
   "source": [
    "** Задание 8 (2 балла)**. Реализуйте линейную регрессию с функцией потерь\n",
    "$$ L(\\hat{y}, y) = log(cosh(\\hat{y} - y)),$$\n",
    "\n",
    "обучаемую с помощью градиентного спуска."
   ]
  },
  {
   "cell_type": "markdown",
   "metadata": {},
   "source": [
    "** Задание 9 (0.01 балла)**.  Вставьте картинку с вашим любимым мемом в этот Jupyter Notebook"
   ]
  }
 ],
 "metadata": {
  "kernelspec": {
   "display_name": "Python 3",
   "language": "python",
   "name": "python3"
  },
  "language_info": {
   "codemirror_mode": {
    "name": "ipython",
    "version": 3
   },
   "file_extension": ".py",
   "mimetype": "text/x-python",
   "name": "python",
   "nbconvert_exporter": "python",
   "pygments_lexer": "ipython3",
   "version": "3.7.3"
  }
 },
 "nbformat": 4,
 "nbformat_minor": 2
}
