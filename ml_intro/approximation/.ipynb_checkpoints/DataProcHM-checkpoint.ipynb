{
 "cells": [
  {
   "cell_type": "code",
   "execution_count": 1,
   "metadata": {},
   "outputs": [],
   "source": [
    "%matplotlib inline\n",
    "\n",
    "import numpy as np\n",
    "import scipy.linalg as la\n",
    "import scipy.interpolate as interp\n",
    "import scipy.integrate as integrate\n",
    "import matplotlib as mpl\n",
    "import matplotlib.pyplot as plt\n",
    "import sympy\n",
    "\n",
    "default_dpi = mpl.rcParamsDefault['figure.dpi']\n",
    "factor = 1\n",
    "mpl.rcParams['figure.dpi'] = default_dpi * factor"
   ]
  },
  {
   "cell_type": "code",
   "execution_count": 3,
   "metadata": {},
   "outputs": [
    {
     "data": {
      "text/plain": [
       "[<matplotlib.lines.Line2D at 0x7fb71e42a860>]"
      ]
     },
     "execution_count": 3,
     "metadata": {},
     "output_type": "execute_result"
    },
    {
     "data": {
      "image/png": "[encoded data removed]",
      "text/plain": [
       "<Figure size 432x288 with 1 Axes>"
      ]
     },
     "metadata": {
      "needs_background": "light"
     },
     "output_type": "display_data"
    }
   ],
   "source": [
    "x = np.array([-1, 0, 1, 2, 3, 4,5,6,7])\n",
    "y = np.array([-0.5, 0, 0.5, 0.86603, 1, 0.86603, 0.784, 0.578, 1])\n",
    "plt.plot (x,y, 'o')"
   ]
  },
  {
   "cell_type": "markdown",
   "metadata": {},
   "source": [
    "# Аппроксимация данных полиномами"
   ]
  },
  {
   "cell_type": "code",
   "execution_count": 5,
   "metadata": {},
   "outputs": [
    {
     "name": "stdout",
     "output_type": "stream",
     "text": [
      "[-0.04509851  0.40895771  0.04567682]\n"
     ]
    }
   ],
   "source": [
    "PolyCoef1 = np.polyfit(x, y, 2)\n",
    "print (PolyCoef1)"
   ]
  },
  {
   "cell_type": "code",
   "execution_count": 6,
   "metadata": {},
   "outputs": [
    {
     "name": "stdout",
     "output_type": "stream",
     "text": [
      "[ 0.0111633  -0.1455682   0.57863986  0.13944854]\n"
     ]
    }
   ],
   "source": [
    "PolyCoef1 = np.polyfit(x, y, 3)\n",
    "print (PolyCoef1)"
   ]
  },
  {
   "cell_type": "code",
   "execution_count": 19,
   "metadata": {},
   "outputs": [],
   "source": [
    "def get_appr_function(x,y,power):\n",
    "    PolyCoef = np.polyfit(x, y, power)\n",
    "    \n",
    "    p = 0.\n",
    "    for k in range(0, power+1):\n",
    "        p += PolyCoef[power-k]*x**k\n",
    "    \n",
    "    return p \n",
    "\n",
    "def get_appr_function_plot(x,y,x_plot,power):\n",
    "    PolyCoef = np.polyfit(x, y, power)\n",
    "    \n",
    "    p = 0.\n",
    "    for k in range(0, power+1):\n",
    "        p += PolyCoef[power-k]*x_plot**k\n",
    "    \n",
    "    return p \n",
    "    "
   ]
  },
  {
   "cell_type": "code",
   "execution_count": 16,
   "metadata": {},
   "outputs": [
    {
     "name": "stdout",
     "output_type": "stream",
     "text": [
      "Local Error  [-0.51254    -0.15090667  0.21072667  0.43839     0.43399333  0.16165667\n",
      " -0.05874    -0.40310667 -0.11947333]\n",
      "\n",
      "Global Error  0.3191593010000097 \n",
      " 0.2127728673333398\n"
     ]
    }
   ],
   "source": [
    "p1 = get_appr_function(x, y, 1)\n",
    "\n",
    "ErrorLocal = y - p1\n",
    "ErrorGlobal = (np.sum ((ErrorLocal)**2)/len(x))**0.5\n",
    "\n",
    "print (\"Local Error \" , ErrorLocal)\n",
    "print()\n",
    "print (\"Global Error \" ,ErrorGlobal,\"\\n\",ErrorGlobal/(max(y)-min(y)))\n"
   ]
  },
  {
   "cell_type": "code",
   "execution_count": 22,
   "metadata": {},
   "outputs": [
    {
     "data": {
      "text/plain": [
       "[<matplotlib.lines.Line2D at 0x7fb71e2e48d0>]"
      ]
     },
     "execution_count": 22,
     "metadata": {},
     "output_type": "execute_result"
    },
    {
     "data": {
      "image/png": "[encoded data removed]",
      "text/plain": [
       "<Figure size 432x288 with 1 Axes>"
      ]
     },
     "metadata": {
      "needs_background": "light"
     },
     "output_type": "display_data"
    }
   ],
   "source": [
    "x_plot = np.arange(-1, 7.01, 0.01)\n",
    "\n",
    "y_plot1 = get_appr_function_plot(x, y, x_plot, 1)\n",
    "plt.grid()\n",
    "plt.plot(x, y, 'o')\n",
    "plt.plot(x_plot, y_plot1)"
   ]
  },
  {
   "cell_type": "code",
   "execution_count": 23,
   "metadata": {},
   "outputs": [
    {
     "data": {
      "text/plain": [
       "[<matplotlib.lines.Line2D at 0x7fb71e2565f8>]"
      ]
     },
     "execution_count": 23,
     "metadata": {},
     "output_type": "execute_result"
    },
    {
     "data": {
      "image/png": "[encoded data removed]",
      "text/plain": [
       "<Figure size 432x288 with 1 Axes>"
      ]
     },
     "metadata": {
      "needs_background": "light"
     },
     "output_type": "display_data"
    }
   ],
   "source": [
    "x_plot = np.arange(-1, 7.01, 0.01)\n",
    "\n",
    "y_plot1 = get_appr_function_plot(x, y, x_plot, 2)\n",
    "plt.grid()\n",
    "plt.plot(x, y, 'o')\n",
    "plt.plot(x_plot, y_plot1)"
   ]
  },
  {
   "cell_type": "code",
   "execution_count": 24,
   "metadata": {},
   "outputs": [
    {
     "data": {
      "text/plain": [
       "[<matplotlib.lines.Line2D at 0x7fb71e246f60>]"
      ]
     },
     "execution_count": 24,
     "metadata": {},
     "output_type": "execute_result"
    },
    {
     "data": {
      "image/png": "[encoded data removed]",
      "text/plain": [
       "<Figure size 432x288 with 1 Axes>"
      ]
     },
     "metadata": {
      "needs_background": "light"
     },
     "output_type": "display_data"
    }
   ],
   "source": [
    "x_plot = np.arange(-1, 7.01, 0.01)\n",
    "\n",
    "y_plot1 = get_appr_function_plot(x, y, x_plot, 3)\n",
    "plt.grid()\n",
    "plt.plot(x, y, 'o')\n",
    "plt.plot(x_plot, y_plot1)"
   ]
  },
  {
   "cell_type": "code",
   "execution_count": 25,
   "metadata": {},
   "outputs": [
    {
     "data": {
      "text/plain": [
       "[<matplotlib.lines.Line2D at 0x7fb71e1b9ef0>]"
      ]
     },
     "execution_count": 25,
     "metadata": {},
     "output_type": "execute_result"
    },
    {
     "data": {
      "image/png": "[encoded data removed]",
      "text/plain": [
       "<Figure size 432x288 with 1 Axes>"
      ]
     },
     "metadata": {
      "needs_background": "light"
     },
     "output_type": "display_data"
    }
   ],
   "source": [
    "x_plot = np.arange(-1, 7.01, 0.01)\n",
    "\n",
    "y_plot1 = get_appr_function_plot(x, y, x_plot, 5)\n",
    "plt.grid()\n",
    "plt.plot(x, y, 'o')\n",
    "plt.plot(x_plot, y_plot1)"
   ]
  },
  {
   "cell_type": "markdown",
   "metadata": {},
   "source": [
    "# Матрично векторная формулировка"
   ]
  },
  {
   "cell_type": "code",
   "execution_count": 26,
   "metadata": {},
   "outputs": [
    {
     "name": "stdout",
     "output_type": "stream",
     "text": [
      "[0.15090667 0.13836667]\n"
     ]
    }
   ],
   "source": [
    "n = len(x) # n - размер массива данных\n",
    "m = 1   # m - степень полинома (количество базисных функций - 1)\n",
    "\n",
    "def SqLeast (x, y, m):\n",
    "    n = len(x)\n",
    "    Phi = np.zeros ((n,m+1))\n",
    "    for k in range (0, m+1):\n",
    "        Phi[:,k] = BasicFunctions (k, x)\n",
    "    PhiT = Phi.T\n",
    "    G = PhiT @ Phi\n",
    "    #print (Phi)\n",
    "    #print (G)\n",
    "    z = PhiT @ y\n",
    "    #print (z)\n",
    "    a = np.linalg.solve(G, z)\n",
    "    #print(a)\n",
    "    return a\n",
    "\n",
    "def BasicFunctions (num, x):\n",
    "    PhiFun = x**num\n",
    "    return PhiFun  \n",
    "\n",
    "PolynomCoefs = SqLeast (x, y, 1)\n",
    "print (PolynomCoefs)"
   ]
  },
  {
   "cell_type": "code",
   "execution_count": 27,
   "metadata": {},
   "outputs": [
    {
     "name": "stdout",
     "output_type": "stream",
     "text": [
      "[ 0.04567682  0.40895771 -0.04509851]\n"
     ]
    }
   ],
   "source": [
    "PolynomCoefs = SqLeast (x, y, 2)\n",
    "print (PolynomCoefs)"
   ]
  },
  {
   "cell_type": "code",
   "execution_count": null,
   "metadata": {},
   "outputs": [],
   "source": []
  }
 ],
 "metadata": {
  "kernelspec": {
   "display_name": "Python 3",
   "language": "python",
   "name": "python3"
  },
  "language_info": {
   "codemirror_mode": {
    "name": "ipython",
    "version": 3
   },
   "file_extension": ".py",
   "mimetype": "text/x-python",
   "name": "python",
   "nbconvert_exporter": "python",
   "pygments_lexer": "ipython3",
   "version": "3.7.3"
  }
 },
 "nbformat": 4,
 "nbformat_minor": 2
}
