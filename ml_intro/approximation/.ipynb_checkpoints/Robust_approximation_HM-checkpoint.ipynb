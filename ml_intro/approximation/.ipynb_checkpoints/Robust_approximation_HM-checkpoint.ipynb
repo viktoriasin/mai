{
 "cells": [
  {
   "cell_type": "code",
   "execution_count": 1,
   "metadata": {},
   "outputs": [],
   "source": [
    "%matplotlib inline\n",
    "\n",
    "import numpy as np\n",
    "import scipy.linalg as la\n",
    "import scipy.interpolate as interp\n",
    "import scipy.integrate as integrate\n",
    "import matplotlib as mpl\n",
    "import matplotlib.pyplot as plt\n",
    "import sympy\n",
    "\n",
    "default_dpi = mpl.rcParamsDefault['figure.dpi']\n",
    "factor = 1\n",
    "mpl.rcParams['figure.dpi'] = default_dpi * factor"
   ]
  },
  {
   "cell_type": "code",
   "execution_count": 29,
   "metadata": {},
   "outputs": [],
   "source": [
    "# x(n), y(n) - массив данных\n",
    "# m - степень полинома (количество базисных функций - 1)\n",
    "\n",
    "def SqLeast (x, y, m):\n",
    "    global G, Phi\n",
    "    n = len(x)\n",
    "    Phi = np.zeros ((n,m+1))\n",
    "    for k in range (0, m+1):\n",
    "        Phi[:,k] = BasicFunctions (k, x)\n",
    "    PhiT = Phi.T\n",
    "    G = PhiT @ Phi\n",
    "    z = PhiT @ y\n",
    "    a = np.linalg.solve(G, z)\n",
    "    return a\n",
    "\n",
    "def SqLeastReg (x, y, m, alpha):\n",
    "    global G\n",
    "    n = len(x)\n",
    "    Phi = np.zeros ((n,m+1))\n",
    "    for k in range (0, m+1):\n",
    "        Phi[:,k] = BasicFunctions (k, x)\n",
    "    PhiT = Phi.T\n",
    "    \n",
    "    RegAlpha = np.eye (m+1) * alpha\n",
    "\n",
    "        \n",
    "    G = PhiT @ Phi + RegAlpha \n",
    "    z = PhiT @ y\n",
    "    a = np.linalg.solve(G, z)\n",
    "    return a\n",
    "\n",
    "def sql_least_robust(x,y,m,alpha=0.01):\n",
    "    n = len(x)\n",
    "    koef = np.zeros((n, m + 1))\n",
    "    \n",
    "    for i in range(0, m+1):\n",
    "        koef[:, i ] = get_funct(i , x)\n",
    "    dist = 1.5\n",
    "    dist = dist\n",
    "        \n",
    "    koef_t = koef.T\n",
    "    regAlpha = np.eye(m + 1) * alpha\n",
    "    G = koef_t @ koef + regAlpha\n",
    "    z = koef_t @ y\n",
    "    a = np.linalg.solve(G,z)\n",
    "    \n",
    "    E = np.eye (n)\n",
    "    yr = y @ E \n",
    "    \n",
    "    eps = 0.001\n",
    "    \n",
    "    for i in range(10):\n",
    "            \n",
    "        ait = a  \n",
    "          \n",
    "        PhiA = Phi @ a\n",
    "    \n",
    "        res = Phi @ a - yr        \n",
    "          \n",
    "        for i in range (0, n):\n",
    "            #print ('it*', it,  y[10], PhiA[i]-dist)\n",
    "            if (res[i]>dist):\n",
    "                yr[i] = PhiA[i]-dist\n",
    "                #print ('it+', it,  y[10], PhiA[i]-dist)\n",
    "            if (res[i]<-dist):\n",
    "                yr[i] = PhiA[i]+dist\n",
    "                #print ('it-', it,  y[10], PhiA[i]-dist)\n",
    "                    \n",
    "        z = koef_t @ yr\n",
    "        a = np.linalg.solve(G, z)\n",
    "        \n",
    "        eit = a - ait\n",
    "        epsit = (sum(eit**2))**0.5/len(eit)\n",
    "        \n",
    "        print ('iteration', i, a, epsit)\n",
    "        \n",
    "        if (epsit<=eps):\n",
    "            print ()\n",
    "            break \n",
    "                \n",
    "    return a\n",
    "        \n",
    "        \n",
    "    \n",
    "    \n",
    "    \n",
    "    \n",
    "    \n",
    "\n",
    "def BasicFunctions (num, x):\n",
    "    PhiFun = x**num\n",
    "    return PhiFun"
   ]
  },
  {
   "cell_type": "code",
   "execution_count": 4,
   "metadata": {},
   "outputs": [
    {
     "data": {
      "text/plain": [
       "[<matplotlib.lines.Line2D at 0x7f2ffef39be0>]"
      ]
     },
     "execution_count": 4,
     "metadata": {},
     "output_type": "execute_result"
    },
    {
     "data": {
      "image/png": "[encoded data removed]",
      "text/plain": [
       "<Figure size 432x288 with 1 Axes>"
      ]
     },
     "metadata": {
      "needs_background": "light"
     },
     "output_type": "display_data"
    }
   ],
   "source": [
    "xleft = -3\n",
    "xright = 6\n",
    "n = 24\n",
    "x = np.linspace(xleft,xright,n)\n",
    "yf = np.zeros ((n))\n",
    "y = np.zeros ((n))\n",
    "yf = -3. + 3*x **2\n",
    "plt.plot (x,yf, 'o')"
   ]
  },
  {
   "cell_type": "code",
   "execution_count": 6,
   "metadata": {},
   "outputs": [
    {
     "name": "stdout",
     "output_type": "stream",
     "text": [
      "80.0\n"
     ]
    },
    {
     "data": {
      "image/png": "[encoded data removed]",
      "text/plain": [
       "<Figure size 432x288 with 1 Axes>"
      ]
     },
     "metadata": {
      "needs_background": "light"
     },
     "output_type": "display_data"
    }
   ],
   "source": [
    "Delta = 0.5 * np.random.randn(len(x))\n",
    "y = yf + Delta\n",
    "y_av = np.sum(y)/len(x)\n",
    "\n",
    "y [10] = 80.\n",
    "y [15] = 70.\n",
    "\n",
    "plt.plot (x, y, 'o')\n",
    "\n",
    "print (y[10])"
   ]
  },
  {
   "cell_type": "markdown",
   "metadata": {},
   "source": [
    "### Построим аппроксимационный полином"
   ]
  },
  {
   "cell_type": "markdown",
   "metadata": {},
   "source": [
    "Можем видеть, что две точки портят аппроксимацию"
   ]
  },
  {
   "cell_type": "code",
   "execution_count": 16,
   "metadata": {},
   "outputs": [
    {
     "name": "stdout",
     "output_type": "stream",
     "text": [
      "Коэффициенты [6.30149344 2.55540842 2.1852899 ]\n",
      "Числа обусловленности матриц G и Phi 402.0262201187212 20.05059151543223\n"
     ]
    },
    {
     "data": {
      "text/plain": [
       "[<matplotlib.lines.Line2D at 0x7f2ffea07518>]"
      ]
     },
     "execution_count": 16,
     "metadata": {},
     "output_type": "execute_result"
    },
    {
     "data": {
      "image/png": "[encoded data removed]",
      "text/plain": [
       "<Figure size 432x288 with 1 Axes>"
      ]
     },
     "metadata": {
      "needs_background": "light"
     },
     "output_type": "display_data"
    }
   ],
   "source": [
    "m = 2\n",
    "\n",
    "PolynomCoefs = SqLeast (x, y, m)\n",
    "print ('Коэффициенты', PolynomCoefs)\n",
    "\n",
    "cond = np.linalg.cond (G)\n",
    "condPhi = np.linalg.cond (Phi)\n",
    "EigG = np.linalg.eigvals (G)\n",
    "print ('Числа обусловленности матриц G и Phi', cond, condPhi)\n",
    "\n",
    "PolynomValue = np.zeros(len(x))\n",
    "for i in range (0, m+1):\n",
    "    PolynomValue += PolynomCoefs[i]*x**i\n",
    "    \n",
    "plt.plot (x, y, 'o')\n",
    "plt.plot (x, PolynomValue)"
   ]
  },
  {
   "cell_type": "markdown",
   "metadata": {},
   "source": [
    "### Робастная аппроксимация"
   ]
  },
  {
   "cell_type": "code",
   "execution_count": 19,
   "metadata": {},
   "outputs": [],
   "source": [
    "def get_funct(degree, val):\n",
    "    return val ** degree"
   ]
  },
  {
   "cell_type": "code",
   "execution_count": 30,
   "metadata": {},
   "outputs": [
    {
     "name": "stdout",
     "output_type": "stream",
     "text": [
      "iteration 23 [5.0535831  2.2415441  2.29732967] 0.42884894908031335\n",
      "iteration 23 [4.86739549 2.18808319 2.31357299] 0.06479689594674191\n",
      "iteration 23 [4.83768631 2.17942512 2.31617073] 0.01035130776025979\n",
      "iteration 23 [4.83291858 2.17803415 2.31658769] 0.0016613212584358503\n",
      "iteration 23 [4.83215313 2.17781082 2.31665463] 0.00026672333458040354\n",
      "\n",
      "Коэффициенты [4.83215313 2.17781082 2.31665463]\n",
      "Числа обусловленности матриц G и Phi 402.0262201187212 20.05059151543223\n"
     ]
    },
    {
     "data": {
      "text/plain": [
       "[<matplotlib.lines.Line2D at 0x7f2ffeedfe48>]"
      ]
     },
     "execution_count": 30,
     "metadata": {},
     "output_type": "execute_result"
    },
    {
     "data": {
      "image/png": "[encoded data removed]",
      "text/plain": [
       "<Figure size 432x288 with 1 Axes>"
      ]
     },
     "metadata": {
      "needs_background": "light"
     },
     "output_type": "display_data"
    }
   ],
   "source": [
    "m = 2\n",
    "\n",
    "PolynomCoefs = sql_least_robust (x, y, m)\n",
    "print ('Коэффициенты', PolynomCoefs)\n",
    "\n",
    "cond = np.linalg.cond (G)\n",
    "condPhi = np.linalg.cond (Phi)\n",
    "EigG = np.linalg.eigvals (G)\n",
    "print ('Числа обусловленности матриц G и Phi', cond, condPhi)\n",
    "\n",
    "PolynomValue = np.zeros(len(x))\n",
    "\n",
    "for i in range (0, m+1):\n",
    "    PolynomValue += PolynomCoefs[i]*x**i\n",
    "    \n",
    "plt.plot (x, y, 'o')\n",
    "plt.plot (x, PolynomValue)"
   ]
  },
  {
   "cell_type": "markdown",
   "metadata": {},
   "source": [
    "Робастная регуляризация проявила себя лучше"
   ]
  },
  {
   "cell_type": "code",
   "execution_count": null,
   "metadata": {},
   "outputs": [],
   "source": []
  }
 ],
 "metadata": {
  "kernelspec": {
   "display_name": "Python 3",
   "language": "python",
   "name": "python3"
  },
  "language_info": {
   "codemirror_mode": {
    "name": "ipython",
    "version": 3
   },
   "file_extension": ".py",
   "mimetype": "text/x-python",
   "name": "python",
   "nbconvert_exporter": "python",
   "pygments_lexer": "ipython3",
   "version": "3.7.3"
  }
 },
 "nbformat": 4,
 "nbformat_minor": 2
}
