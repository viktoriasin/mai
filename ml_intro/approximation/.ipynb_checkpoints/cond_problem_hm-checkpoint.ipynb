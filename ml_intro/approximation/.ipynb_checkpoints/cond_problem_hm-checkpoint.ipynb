{
 "cells": [
  {
   "cell_type": "code",
   "execution_count": 1,
   "metadata": {},
   "outputs": [],
   "source": [
    "%matplotlib inline\n",
    "\n",
    "import numpy as np\n",
    "import scipy.linalg as la\n",
    "import scipy.interpolate as interp\n",
    "import scipy.integrate as integrate\n",
    "import matplotlib as mpl\n",
    "import matplotlib.pyplot as plt\n",
    "import sympy\n",
    "\n",
    "default_dpi = mpl.rcParamsDefault['figure.dpi']\n",
    "factor = 1\n",
    "mpl.rcParams['figure.dpi'] = default_dpi * factor"
   ]
  },
  {
   "cell_type": "code",
   "execution_count": 20,
   "metadata": {},
   "outputs": [],
   "source": [
    "# x(n), y(n) - массив данных\n",
    "# m - степень полинома (количество базисных функций - 1)\n",
    "\n",
    "def SqLeast (x, y, m):\n",
    "    global G, Phi\n",
    "    n = len(x)\n",
    "    Phi = np.zeros ((n,m+1))\n",
    "    for k in range (0, m+1):\n",
    "        Phi[:,k] = BasicFunctions (k, x)\n",
    "    PhiT = Phi.T\n",
    "    G = PhiT @ Phi\n",
    "    z = PhiT @ y\n",
    "    a = np.linalg.solve(G, z)\n",
    "    return a\n",
    "\n",
    "def SqLeastReg (x, y, m, alpha):\n",
    "    global G\n",
    "    n = len(x)\n",
    "    Phi = np.zeros ((n,m+1))\n",
    "    for k in range (0, m+1):\n",
    "        Phi[:,k] = BasicFunctions (k, x)\n",
    "    PhiT = Phi.T\n",
    "    \n",
    "    RegAlpha = np.eye (m+1) * alpha\n",
    "        \n",
    "    G = PhiT @ Phi + RegAlpha \n",
    "    z = PhiT @ y\n",
    "    a = np.linalg.solve(G, z)\n",
    "    return a\n",
    "\n",
    "def BasicFunctions (num, x):\n",
    "    PhiFun = x**num\n",
    "    return PhiFun"
   ]
  },
  {
   "cell_type": "code",
   "execution_count": 40,
   "metadata": {},
   "outputs": [
    {
     "name": "stdout",
     "output_type": "stream",
     "text": [
      "Коэффициенты точные [ 5.000000e+01  1.000000e+02  2.000002e+02 -1.000000e+02 -1.000000e-03\n",
      " -1.500000e+01]\n"
     ]
    },
    {
     "data": {
      "text/plain": [
       "[<matplotlib.lines.Line2D at 0x7f345669b438>]"
      ]
     },
     "execution_count": 40,
     "metadata": {},
     "output_type": "execute_result"
    },
    {
     "data": {
      "image/png": "[encoded data removed]",
      "text/plain": [
       "<Figure size 432x288 with 1 Axes>"
      ]
     },
     "metadata": {
      "needs_background": "light"
     },
     "output_type": "display_data"
    }
   ],
   "source": [
    "xleft = 0.0\n",
    "xright = 2.0\n",
    "n = 15\n",
    "x = np.linspace(xleft,xright,n)\n",
    "yf = np.zeros ((n))\n",
    "y = np.zeros ((n))\n",
    "\n",
    "coefs = np.array ([50, 100, 200.0002, -100,-0.001,-15])\n",
    "m = len(coefs)- 1\n",
    "\n",
    "print ('Коэффициенты точные', coefs)\n",
    "\n",
    "for i in range (0, m+1):\n",
    "    yf += coefs[i]*x**i\n",
    "plt.plot (x,yf, 'o')"
   ]
  },
  {
   "cell_type": "code",
   "execution_count": 45,
   "metadata": {},
   "outputs": [
    {
     "data": {
      "text/plain": [
       "[<matplotlib.lines.Line2D at 0x7f345652b2e8>]"
      ]
     },
     "execution_count": 45,
     "metadata": {},
     "output_type": "execute_result"
    },
    {
     "data": {
      "image/png": "[encoded data removed]",
      "text/plain": [
       "<Figure size 432x288 with 1 Axes>"
      ]
     },
     "metadata": {
      "needs_background": "light"
     },
     "output_type": "display_data"
    }
   ],
   "source": [
    "Delta = 109 * np.random.randn(len(x))\n",
    "y = yf + Delta\n",
    "plt.plot (x, y, '*')\n"
   ]
  },
  {
   "cell_type": "markdown",
   "metadata": {},
   "source": [
    "Можем видеть, что число обучлосвленности матрицы коэффициентов, составленных при помощи обычной МНК велико, что говорит о том, что матрицы неустойчива к возмущениям"
   ]
  },
  {
   "cell_type": "code",
   "execution_count": 46,
   "metadata": {},
   "outputs": [
    {
     "name": "stdout",
     "output_type": "stream",
     "text": [
      "Коэффициенты МНК [  33.25393279  376.5180594  -167.38782492 -387.96762967  524.35575605\n",
      " -177.7058586 ]\n",
      "Gmatrix [[  15.           15.           20.71428571   32.14285714   53.18075802\n",
      "    91.6180758 ]\n",
      " [  15.           20.71428571   32.14285714   53.18075802   91.6180758\n",
      "   162.28182985]\n",
      " [  20.71428571   32.14285714   53.18075802   91.6180758   162.28182985\n",
      "   293.31974772]\n",
      " [  32.14285714   53.18075802   91.6180758   162.28182985  293.31974772\n",
      "   538.36926669]\n",
      " [  53.18075802   91.6180758   162.28182985  293.31974772  538.36926669\n",
      "  1000.09843445]\n",
      " [  91.6180758   162.28182985  293.31974772  538.36926669 1000.09843445\n",
      "  1875.8538295 ]]\n",
      "12057968.936436696\n"
     ]
    }
   ],
   "source": [
    "PolynomCoefs = SqLeast (x, y, m)\n",
    "print ('Коэффициенты МНК', PolynomCoefs)\n",
    "\n",
    "print ('Gmatrix',G)\n",
    "cond = np.linalg.cond (G)\n",
    "print (cond)\n"
   ]
  },
  {
   "cell_type": "code",
   "execution_count": 47,
   "metadata": {},
   "outputs": [
    {
     "data": {
      "text/plain": [
       "[<matplotlib.lines.Line2D at 0x7f34564ef550>]"
      ]
     },
     "execution_count": 47,
     "metadata": {},
     "output_type": "execute_result"
    },
    {
     "data": {
      "image/png": "[encoded data removed]",
      "text/plain": [
       "<Figure size 432x288 with 1 Axes>"
      ]
     },
     "metadata": {
      "needs_background": "light"
     },
     "output_type": "display_data"
    }
   ],
   "source": [
    "PolynomValue = np.zeros(len(x))\n",
    "for i in range (0, m+1):\n",
    "    PolynomValue += PolynomCoefs[i]*x**i\n",
    "        \n",
    "plt.plot (x, y, 'o')\n",
    "plt.plot (x, PolynomValue)\n"
   ]
  },
  {
   "cell_type": "markdown",
   "metadata": {},
   "source": [
    "При добавлении регуляризации число обусловленности стало меньше"
   ]
  },
  {
   "cell_type": "code",
   "execution_count": 48,
   "metadata": {},
   "outputs": [
    {
     "name": "stdout",
     "output_type": "stream",
     "text": [
      "Коэффициенты МНК с регуляризацией [  49.91840214  276.89492239 -181.31452448  -64.8624387   230.9620172\n",
      " -104.03327991]\n",
      "257705.42782615556\n"
     ]
    }
   ],
   "source": [
    "CoefsReg = SqLeastReg (x, y, m, 0.01)\n",
    "print ('Коэффициенты МНК с регуляризацией', CoefsReg)\n",
    "cond = np.linalg.cond (G)\n",
    "print (cond)\n"
   ]
  },
  {
   "cell_type": "code",
   "execution_count": 49,
   "metadata": {},
   "outputs": [
    {
     "data": {
      "text/plain": [
       "[<matplotlib.lines.Line2D at 0x7f3456480278>]"
      ]
     },
     "execution_count": 49,
     "metadata": {},
     "output_type": "execute_result"
    },
    {
     "data": {
      "image/png": "[encoded data removed]",
      "text/plain": [
       "<Figure size 432x288 with 1 Axes>"
      ]
     },
     "metadata": {
      "needs_background": "light"
     },
     "output_type": "display_data"
    }
   ],
   "source": [
    "\n",
    "PolynomValue = np.zeros(len(x))\n",
    "for i in range (0, m+1):\n",
    "    PolynomValue += CoefsReg[i]*x**i\n",
    "plt.plot (x, PolynomValue)"
   ]
  },
  {
   "cell_type": "code",
   "execution_count": 50,
   "metadata": {},
   "outputs": [
    {
     "name": "stdout",
     "output_type": "stream",
     "text": [
      "коэффициенты МНК SVD [ 75.78450676  70.08538314  57.00279269  40.40834784  12.67890618\n",
      " -38.50631662]\n"
     ]
    }
   ],
   "source": [
    "PhiInv = np.linalg.pinv(Phi, rcond = 1e-2)\n",
    "CoefsSVD = PhiInv @ y\n",
    "print ('коэффициенты МНК SVD', CoefsSVD )\n"
   ]
  },
  {
   "cell_type": "markdown",
   "metadata": {},
   "source": [
    "Можем видеть, что луше всего себя проявили коэффициенты, полученные после SVD"
   ]
  },
  {
   "cell_type": "code",
   "execution_count": 51,
   "metadata": {},
   "outputs": [
    {
     "name": "stdout",
     "output_type": "stream",
     "text": [
      "s [5.13159257e+01 5.23793196e+00 2.06931815e+00 5.86236884e-01\n",
      " 1.17625125e-01 1.47779804e-02]\n"
     ]
    },
    {
     "data": {
      "text/plain": [
       "[<matplotlib.lines.Line2D at 0x7f34563e7908>]"
      ]
     },
     "execution_count": 51,
     "metadata": {},
     "output_type": "execute_result"
    },
    {
     "data": {
      "image/png": "[encoded data removed]",
      "text/plain": [
       "<Figure size 432x288 with 1 Axes>"
      ]
     },
     "metadata": {
      "needs_background": "light"
     },
     "output_type": "display_data"
    }
   ],
   "source": [
    "\n",
    "U, s, Vh = np.linalg.svd(Phi)\n",
    "print ('s', s)\n",
    "#smat = np.diag(s)\n",
    "\n",
    "#plt.subplot (2,1,1)\n",
    "plt.plot (coefs)\n",
    "plt.plot (CoefsReg, '*')\n",
    "plt.plot (PolynomCoefs, 'v')\n",
    "plt.plot (CoefsSVD, 'o')\n",
    "#plt.plot (coef2, '-')\n",
    "#plt.subplot (2,1,2)\n",
    "#plt.plot (coefs)\n",
    "#plt.plot (coef2)"
   ]
  },
  {
   "cell_type": "code",
   "execution_count": null,
   "metadata": {},
   "outputs": [],
   "source": []
  }
 ],
 "metadata": {
  "kernelspec": {
   "display_name": "Python 3",
   "language": "python",
   "name": "python3"
  },
  "language_info": {
   "codemirror_mode": {
    "name": "ipython",
    "version": 3
   },
   "file_extension": ".py",
   "mimetype": "text/x-python",
   "name": "python",
   "nbconvert_exporter": "python",
   "pygments_lexer": "ipython3",
   "version": "3.7.3"
  }
 },
 "nbformat": 4,
 "nbformat_minor": 2
}
