{
 "cells": [
  {
   "cell_type": "code",
   "execution_count": 1,
   "metadata": {},
   "outputs": [],
   "source": [
    "import numpy as np\n",
    "import matplotlib.pyplot as plt"
   ]
  },
  {
   "cell_type": "code",
   "execution_count": 2,
   "metadata": {},
   "outputs": [],
   "source": [
    "def gen_basis(n):\n",
    "    b = []\n",
    "    for i in range(n):\n",
    "        b.append(lambda x, m=i: x ** m)\n",
    "    return b"
   ]
  },
  {
   "cell_type": "code",
   "execution_count": 4,
   "metadata": {},
   "outputs": [],
   "source": [
    "basis = gen_basis(2)\n"
   ]
  },
  {
   "cell_type": "code",
   "execution_count": 5,
   "metadata": {},
   "outputs": [],
   "source": [
    "def Phi(basis, x):\n",
    "    res = np.zeros((x.shape[0], len(basis)))\n",
    "    \n",
    "    for i in range(np.size(x, axis=0)):\n",
    "        for j in range(len(basis)):\n",
    "            res[i, j] = basis[j](x[i])\n",
    "            \n",
    "    return res"
   ]
  },
  {
   "cell_type": "code",
   "execution_count": 6,
   "metadata": {},
   "outputs": [],
   "source": [
    "x = np.arange(0, 10, 1)\n",
    "#y = np.exp(- (x - 5) ** 2 / 4)\n",
    "y = 2.0 * x + 1\n",
    "phi = Phi(basis, x)"
   ]
  },
  {
   "cell_type": "code",
   "execution_count": 7,
   "metadata": {},
   "outputs": [
    {
     "data": {
      "text/plain": [
       "<matplotlib.collections.PathCollection at 0x7f7d7f0d3d30>"
      ]
     },
     "execution_count": 7,
     "metadata": {},
     "output_type": "execute_result"
    },
    {
     "data": {
      "image/png": "[encoded data removed]",
      "text/plain": [
       "<Figure size 432x288 with 1 Axes>"
      ]
     },
     "metadata": {
      "needs_background": "light"
     },
     "output_type": "display_data"
    }
   ],
   "source": [
    "plt.scatter(x, y)"
   ]
  },
  {
   "cell_type": "code",
   "execution_count": 8,
   "metadata": {},
   "outputs": [],
   "source": [
    "noise_size = int(x.shape[0] * 0.8)\n",
    "noise_idx = np.random.randint(0, x.shape[0], size=noise_size)\n",
    "y[noise_idx] += np.random.uniform(-2, 2, size=noise_size)\n"
   ]
  },
  {
   "cell_type": "code",
   "execution_count": 9,
   "metadata": {},
   "outputs": [
    {
     "data": {
      "text/plain": [
       "<matplotlib.collections.PathCollection at 0x7f7d7eff5550>"
      ]
     },
     "execution_count": 9,
     "metadata": {},
     "output_type": "execute_result"
    },
    {
     "data": {
      "image/png": "[encoded data removed]",
      "text/plain": [
       "<Figure size 432x288 with 1 Axes>"
      ]
     },
     "metadata": {
      "needs_background": "light"
     },
     "output_type": "display_data"
    }
   ],
   "source": [
    "plt.scatter(x, y)"
   ]
  },
  {
   "cell_type": "code",
   "execution_count": 10,
   "metadata": {},
   "outputs": [],
   "source": [
    "def dd(x):\n",
    "    return np.linalg.norm(x)\n",
    "\n",
    "def huber(x):\n",
    "    n = np.linalg.norm(x)\n",
    "    d = 0.2\n",
    "    \n",
    "    if n < d:\n",
    "        return x ** 2\n",
    "    return - d ** 2 + 2 * d * n"
   ]
  },
  {
   "cell_type": "code",
   "execution_count": 11,
   "metadata": {},
   "outputs": [],
   "source": [
    "\n",
    "def R(phi, a, y, d):\n",
    "    r = np.zeros((y.shape[0], y.shape[0]))\n",
    "    for i in range(y.shape[0]):\n",
    "        r[i, i] = d((phi @ a - y)[i]) / (phi @ a - y)[i]\n",
    "    return r"
   ]
  },
  {
   "cell_type": "code",
   "execution_count": 12,
   "metadata": {},
   "outputs": [],
   "source": [
    "def train(phi, x, y, d):\n",
    "    a = np.random.uniform(-1, 1, size=len(basis))\n",
    "    r = R(phi, a, y, d)\n",
    "    for k in range(1000):\n",
    "        a = np.linalg.solve(phi.T @ r @ phi, phi.T @ r @ y)\n",
    "        r = R(phi, a, y, d)\n",
    "    \n",
    "    return a"
   ]
  },
  {
   "cell_type": "code",
   "execution_count": 13,
   "metadata": {},
   "outputs": [],
   "source": [
    "a = train(phi, x , y, dd)\n",
    "a_huber = train(phi, x, y, huber)"
   ]
  },
  {
   "cell_type": "code",
   "execution_count": 14,
   "metadata": {},
   "outputs": [],
   "source": [
    "def fit(basis, a, x):\n",
    "    y = np.zeros(x.shape[0])\n",
    "    for i in range(y.shape[0]):\n",
    "        for j in range(len(basis)):\n",
    "            y[i] += a[j] * basis[j](x[i])\n",
    "    return y"
   ]
  },
  {
   "cell_type": "code",
   "execution_count": 15,
   "metadata": {},
   "outputs": [
    {
     "data": {
      "image/png": "[encoded data removed]",
      "text/plain": [
       "<Figure size 432x288 with 1 Axes>"
      ]
     },
     "metadata": {
      "needs_background": "light"
     },
     "output_type": "display_data"
    }
   ],
   "source": [
    "plt.scatter(x, fit(basis, a_huber, x), s=2, c='g')\n",
    "plt.plot(x, fit(basis, a, x))\n",
    "plt.scatter(x, y, c='r')\n",
    "plt.show()"
   ]
  },
  {
   "cell_type": "code",
   "execution_count": null,
   "metadata": {},
   "outputs": [],
   "source": []
  }
 ],
 "metadata": {
  "kernelspec": {
   "display_name": "Python 3",
   "language": "python",
   "name": "python3"
  },
  "language_info": {
   "codemirror_mode": {
    "name": "ipython",
    "version": 3
   },
   "file_extension": ".py",
   "mimetype": "text/x-python",
   "name": "python",
   "nbconvert_exporter": "python",
   "pygments_lexer": "ipython3",
   "version": "3.7.3"
  }
 },
 "nbformat": 4,
 "nbformat_minor": 2
}
